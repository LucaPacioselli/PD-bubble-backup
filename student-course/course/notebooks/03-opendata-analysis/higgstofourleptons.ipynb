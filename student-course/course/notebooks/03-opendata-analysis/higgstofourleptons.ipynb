{
 "cells": [
  {
   "cell_type": "markdown",
   "metadata": {},
   "source": [
    "# The Higgs to four lepton analysis from the ATLAS Open Data release of 2020, with RDataFrame\n",
    "\n",
    "This exercise is the Higgs to four lepton analysis from the ATLAS Open Data release in 2020 (http://opendata.atlas.cern/release/2020/documentation/). The data was taken with the ATLAS detector during 2016 at a center-of-mass energy of 13 TeV. The decay of the Standard Model Higgs boson to two Z bosons and subsequently to four leptons is called the \"golden channel\". The selection leads to a narrow invariant mass peak on top a relatively smooth and small background, revealing the Higgs at 125 GeV. Systematic errors for the MC scale factors are computed and the Vary function of RDataFrame is used for plotting. The analysis is translated to an RDataFrame workflow processing about 300 MB of simulated events and data.\n"
   ]
  },
  {
   "cell_type": "code",
   "execution_count": 1,
   "metadata": {},
   "outputs": [],
   "source": [
    "import ROOT\n",
    "import os"
   ]
  },
  {
   "cell_type": "markdown",
   "metadata": {},
   "source": [
    "## Specifying the input dataset\n",
    "\n",
    "In this exercise, we use a JSON config file to define the dataset specification. It contains the names of the files, together with metadata associated with different samples. The metadata contained in the JSON file is accessible within a [`DefinePerSample`](https://root.cern/doc/v628/classROOT_1_1RDF_1_1RInterface.html#a29d77593e95c0f84e359a802e6836a0e) call, through the [`RSampleInfo`](https://root.cern/doc/master/classROOT_1_1RDF_1_1RSampleInfo.html) class."
   ]
  },
  {
   "cell_type": "code",
   "execution_count": 2,
   "metadata": {},
   "outputs": [],
   "source": [
    "# The analysis needs custom code written in a separate header, so we include it here\n",
    "ROOT.gInterpreter.Declare('#include \"utils.h\"')\n",
    "\n",
    "dataset_spec = \"dataset_spec.json\"\n",
    "df = ROOT.RDF.Experimental.FromSpec(dataset_spec)  # Creates a single dataframe for all the samples\n",
    "\n",
    "df = df.DefinePerSample(\"xsecs\", 'rdfsampleinfo_.GetD(\"xsecs\")')\n",
    "df = df.DefinePerSample(\"lumi\", 'rdfsampleinfo_.GetD(\"lumi\")')\n",
    "df = df.DefinePerSample(\"sumws\", 'rdfsampleinfo_.GetD(\"sumws\")')\n",
    "df = df.DefinePerSample(\"sample_category\", 'rdfsampleinfo_.GetS(\"sample_category\")')\n",
    "df = df.DefinePerSample(\"scale\", \"scale(rdfslot_, rdfsampleinfo_)\")"
   ]
  },
  {
   "cell_type": "markdown",
   "metadata": {},
   "source": [
    "## Perform selections\n",
    "\n",
    "We need to select events with exactly four good leptons conserving charge and lepton numbers. Note that all collections read by RDataFrame are implicitly handled as the `ROOT::RVec` type."
   ]
  },
  {
   "cell_type": "code",
   "execution_count": 3,
   "metadata": {},
   "outputs": [
    {
     "name": "stdout",
     "output_type": "stream",
     "text": [
      "CPU times: user 272 ms, sys: 8.31 ms, total: 280 ms\n",
      "Wall time: 283 ms\n"
     ]
    }
   ],
   "source": [
    "%%time\n",
    "# Select electron or muon trigger\n",
    "df = df.Filter(\"trigE || trigM\")\n",
    "\n",
    "# good_lep is the mask for the good leptons.\n",
    "# The lepton types are PDG numbers and set to 11 or 13 for an electron or muon\n",
    "# irrespective of the charge.\n",
    "\n",
    "df = (\n",
    "    df.Define(\n",
    "        \"good_lep\",\n",
    "        \"abs(lep_eta) < 2.5 && lep_pt > 5000 && lep_ptcone30 / lep_pt < 0.3 && lep_etcone20 / lep_pt < 0.3\",\n",
    "    )\n",
    "    .Filter(\"Sum(good_lep) == 4\")\n",
    "    .Filter(\"Sum(lep_charge[good_lep]) == 0\")\n",
    "    .Define(\"goodlep_sumtypes\", \"Sum(lep_type[good_lep])\")\n",
    "    .Filter(\"goodlep_sumtypes == 44 || goodlep_sumtypes == 52 || goodlep_sumtypes == 48\")\n",
    ")\n",
    "\n",
    "# Apply additional cuts depending on lepton flavour\n",
    "df = df.Filter(\n",
    "    \"GoodElectronsAndMuons(lep_type[good_lep], lep_pt[good_lep], lep_eta[good_lep], lep_phi[good_lep], lep_E[good_lep], lep_trackd0pvunbiased[good_lep], lep_tracksigd0pvunbiased[good_lep], lep_z0[good_lep])\"\n",
    ")\n",
    "\n",
    "# Create new columns with the kinematics of good leptons\n",
    "df = (\n",
    "    df.Define(\"goodlep_pt\", \"lep_pt[good_lep]\")\n",
    "    .Define(\"goodlep_eta\", \"lep_eta[good_lep]\")\n",
    "    .Define(\"goodlep_phi\", \"lep_phi[good_lep]\")\n",
    "    .Define(\"goodlep_E\", \"lep_E[good_lep]\")\n",
    "    .Define(\"goodlep_type\", \"lep_type[good_lep]\")\n",
    ")\n",
    "\n",
    "# Select leptons with high transverse momentum\n",
    "df = df.Filter(\"goodlep_pt[0] > 25000 && goodlep_pt[1] > 15000 && goodlep_pt[2] > 10000\")"
   ]
  },
  {
   "cell_type": "markdown",
   "metadata": {},
   "source": [
    "## Definition of the relevant observables"
   ]
  },
  {
   "cell_type": "code",
   "execution_count": 4,
   "metadata": {},
   "outputs": [
    {
     "name": "stdout",
     "output_type": "stream",
     "text": [
      "CPU times: user 180 ms, sys: 17.7 ms, total: 198 ms\n",
      "Wall time: 206 ms\n"
     ]
    }
   ],
   "source": [
    "%%time\n",
    "# Reweighting of the samples is different for \"data\" and \"MC\".\n",
    "# Use DefinePerSample to define which samples are MC and hence need reweighting\n",
    "df = df.DefinePerSample(\"isMC\", 'rdfsampleinfo_.Contains(\"mc\")')\n",
    "df = df.Define(\n",
    "    \"weight\",\n",
    "    \"double x; return isMC ? weights(scaleFactor_ELE, scaleFactor_MUON, scaleFactor_LepTRIGGER, scaleFactor_PILEUP, scale, mcWeight, xsecs, sumws, lumi) :  1.;\",\n",
    ")\n",
    "\n",
    "df = df.Define(\"m4l\", \"ComputeInvariantMass(goodlep_pt, goodlep_eta, goodlep_phi, goodlep_E)\")\n",
    "\n",
    "# Book histograms for the four different samples: data, higgs, zz and other (this is specific to this particular analysis)\n",
    "histos = []\n",
    "for sample_category in [\"data\", \"higgs\", \"zz\", \"other\"]:\n",
    "    histos.append(\n",
    "        df.Filter(f'sample_category == \"{sample_category}\"').Histo1D(\n",
    "            ROOT.RDF.TH1DModel(f\"{sample_category}\", \"m4l\", 24, 80, 170),\n",
    "            \"m4l\",\n",
    "            \"weight\",\n",
    "        )\n",
    "    )\n"
   ]
  },
  {
   "cell_type": "markdown",
   "metadata": {},
   "source": [
    "## Evaluate systematic uncertainties\n",
    "\n",
    "The systematic uncertainty in this analysis is the MC scale factor uncertainty that depends on lepton kinematics such as pT or pseudorapidity. Muons uncertainties are negligible, as stated in https://atlas.web.cern.ch/Atlas/GROUPS/PHYSICS/PAPERS/MUON-2018-03/. Electrons uncertainties are evaluated based on the plots available in https://doi.org/10.48550/arXiv.1908.00005. The uncertainties are linearly interpolated, using the `TGraph::Eval()` method, to cover a range of pT values covered by the analysis.\n"
   ]
  },
  {
   "cell_type": "code",
   "execution_count": 5,
   "metadata": {},
   "outputs": [
    {
     "name": "stdout",
     "output_type": "stream",
     "text": [
      "CPU times: user 25.6 ms, sys: 359 μs, total: 26 ms\n",
      "Wall time: 25.7 ms\n"
     ]
    }
   ],
   "source": [
    "%%time\n",
    "# Create one helper object to run the interpolation for the systematic uncertainty evaluation in the event loop\n",
    "ROOT.gInterpreter.ProcessLine(\"VaryHelper variationsFactory;\");"
   ]
  },
  {
   "cell_type": "code",
   "execution_count": 6,
   "metadata": {},
   "outputs": [
    {
     "name": "stdout",
     "output_type": "stream",
     "text": [
      "CPU times: user 5.46 s, sys: 64 ms, total: 5.53 s\n",
      "Wall time: 5.56 s\n"
     ]
    }
   ],
   "source": [
    "%%time\n",
    "# Use the Vary method to add the systematic variations to the total MC scale factor (\"weight\") of the analysis.\n",
    "df_variations_mc = (\n",
    "    df.Filter(\"isMC == true\")\n",
    "    .Vary(\"weight\", \"variationsFactory(weight, goodlep_pt, goodlep_type)\", [\"up\", \"down\"])\n",
    "    .Histo1D(ROOT.RDF.TH1DModel(\"Invariant Mass\", \"m4l\", 24, 80, 170), \"m4l\", \"weight\")\n",
    ")\n",
    "histos_mc = ROOT.RDF.Experimental.VariationsFor(df_variations_mc)"
   ]
  },
  {
   "cell_type": "markdown",
   "metadata": {},
   "source": [
    "## Retrieving histograms and plotting\n",
    "\n",
    "We reached the end of the analysis part. We now evaluate the total MC uncertainty based on the variations. No computation graph was triggered yet, we trigger the computation graph for all histograms at once now, by calling 'histos_mc[\"nominal\"].GetXaxis()'. Note, in this case the uncertainties are symmetric."
   ]
  },
  {
   "cell_type": "code",
   "execution_count": 7,
   "metadata": {},
   "outputs": [
    {
     "name": "stdout",
     "output_type": "stream",
     "text": [
      "CPU times: user 8.21 s, sys: 196 ms, total: 8.41 s\n",
      "Wall time: 12 s\n"
     ]
    }
   ],
   "source": [
    "%%time\n",
    "for i in range(0, histos_mc[\"nominal\"].GetXaxis().GetNbins()):\n",
    "    (\n",
    "        histos_mc[\"nominal\"].SetBinError(\n",
    "            i, (histos_mc[\"weight:up\"].GetBinContent(i) - histos_mc[\"nominal\"].GetBinContent(i))\n",
    "        )\n",
    "    )"
   ]
  },
  {
   "cell_type": "markdown",
   "metadata": {},
   "source": [
    "Make the plot of the data, individual MC contributions and the total MC scale factor systematic variations."
   ]
  },
  {
   "cell_type": "code",
   "execution_count": 8,
   "metadata": {},
   "outputs": [
    {
     "name": "stdout",
     "output_type": "stream",
     "text": [
      "CPU times: user 166 ms, sys: 12.7 ms, total: 179 ms\n",
      "Wall time: 189 ms\n"
     ]
    },
    {
     "data": {
      "image/png": "[encoded data removed]",
      "text/plain": [
       "<IPython.core.display.Image object>"
      ]
     },
     "metadata": {},
     "output_type": "display_data"
    }
   ],
   "source": [
    "%%time\n",
    "ROOT.gROOT.SetStyle(\"ATLAS\")\n",
    "\n",
    "# Create canvas with pad\n",
    "c1 = ROOT.TCanvas(\"c\", \"\", 600, 600)\n",
    "pad = ROOT.TPad(\"upper_pad\", \"\", 0, 0, 1, 1)\n",
    "pad.SetTickx(False)\n",
    "pad.SetTicky(False)\n",
    "pad.Draw()\n",
    "pad.cd()\n",
    "\n",
    "# Draw stack with MC contributions\n",
    "stack = ROOT.THStack()\n",
    "\n",
    "# Retrieve values of the data and MC histograms in order to plot them.\n",
    "# Draw cloned histograms to preserve graphics when original objects goes out of scope\n",
    "# Note: GetValue() action operation is performed after all lazy actions of the RDF were defined first.\n",
    "h_data = histos[0].GetValue().Clone()\n",
    "h_higgs = histos[1].GetValue().Clone()\n",
    "h_zz = histos[2].GetValue().Clone()\n",
    "h_other = histos[3].GetValue().Clone()\n",
    "\n",
    "for h, color in zip([h_other, h_zz, h_higgs], [ROOT.kViolet-9, ROOT.kAzure-9, ROOT.kRed+2]):\n",
    "    h.SetLineWidth(1)\n",
    "    h.SetLineColor(1)\n",
    "    h.SetFillColor(color)\n",
    "    stack.Add(h)\n",
    "\n",
    "stack.Draw(\"HIST\")\n",
    "stack.GetXaxis().SetLabelSize(0.04)\n",
    "stack.GetXaxis().SetTitleSize(0.045)\n",
    "stack.GetXaxis().SetTitleOffset(1.3)\n",
    "stack.GetXaxis().SetTitle(\"m_{4l}^{H#rightarrow ZZ} [GeV]\")\n",
    "stack.GetYaxis().SetLabelSize(0.04)\n",
    "stack.GetYaxis().SetTitleSize(0.045)\n",
    "stack.GetYaxis().SetTitle(\"Events\")\n",
    "stack.SetMaximum(35)\n",
    "stack.GetYaxis().ChangeLabel(1, -1, 0)\n",
    "\n",
    "# Draw MC scale factor and variations\n",
    "histos_mc[\"nominal\"].SetFillColor(ROOT.kBlack)\n",
    "histos_mc[\"nominal\"].SetFillStyle(3254)\n",
    "h_nominal = histos_mc[\"nominal\"].DrawClone(\"E2 same\")\n",
    "histos_mc[\"weight:up\"].SetLineColor(ROOT.kGreen+2)\n",
    "h_weight_up = histos_mc[\"weight:up\"].DrawClone(\"HIST SAME\")\n",
    "histos_mc[\"weight:down\"].SetLineColor(ROOT.kBlue+2)\n",
    "h_weight_down = histos_mc[\"weight:down\"].DrawClone(\"HIST SAME\")\n",
    "\n",
    "# Draw data histogram\n",
    "h_data.SetMarkerStyle(20)\n",
    "h_data.SetMarkerSize(1.2)\n",
    "h_data.SetLineWidth(2)\n",
    "h_data.SetLineColor(ROOT.kBlack)\n",
    "h_data.Draw(\"E SAME\")  # Draw raw data with errorbars\n",
    "\n",
    "# Add legend\n",
    "legend = ROOT.TLegend(0.57, 0.65, 0.94, 0.94)\n",
    "legend.SetTextFont(42)\n",
    "legend.SetFillStyle(0)\n",
    "legend.SetBorderSize(0)\n",
    "legend.SetTextSize(0.025)\n",
    "legend.SetTextAlign(32)\n",
    "legend.AddEntry(h_data, \"Data\", \"lep\")\n",
    "legend.AddEntry(h_higgs, \"Higgs MC\", \"f\")\n",
    "legend.AddEntry(h_zz, \"ZZ MC\", \"f\")\n",
    "legend.AddEntry(h_other, \"Other MC\", \"f\")\n",
    "legend.AddEntry(h_weight_down, \"Total MC Variations Down\", \"l\")\n",
    "legend.AddEntry(h_weight_up, \"Total MC Variations Up\", \"l\")\n",
    "legend.AddEntry(h_nominal, \"Total MC Uncertainty\", \"f\")\n",
    "legend.Draw()\n",
    "\n",
    "text = ROOT.TLatex()\n",
    "text.SetTextFont(72)\n",
    "text.SetTextSize(0.04)\n",
    "text.DrawLatexNDC(0.19, 0.85, \"ATLAS\")\n",
    "text.SetTextFont(42)\n",
    "text.DrawLatexNDC(0.19 + 0.15, 0.85, \"Open Data\")\n",
    "text.SetTextSize(0.035)\n",
    "text.DrawLatexNDC(0.21, 0.80, \"#sqrt{s} = 13 TeV, 10 fb^{-1}\")\n",
    "\n",
    "c1.Draw()"
   ]
  },
  {
   "cell_type": "markdown",
   "metadata": {},
   "source": [
    "## TTree -> RNTuple conversion"
   ]
  },
  {
   "cell_type": "code",
   "execution_count": 20,
   "metadata": {},
   "outputs": [
    {
     "ename": "TypeError",
     "evalue": "none of the 2 overloaded methods succeeded. Full details:\n  static unique_ptr<ROOT::Experimental::RNTupleImporter,default_delete<ROOT::Experimental::RNTupleImporter> > ROOT::Experimental::RNTupleImporter::Create(TTree* sourceTree, string_view destFileName) =>\n    TypeError: takes at most 2 arguments (3 given)\n  static unique_ptr<ROOT::Experimental::RNTupleImporter,default_delete<ROOT::Experimental::RNTupleImporter> > ROOT::Experimental::RNTupleImporter::Create(string_view sourceFileName, string_view treeName, string_view destFileName) =>\n    TypeError: could not convert argument 1",
     "output_type": "error",
     "traceback": [
      "\u001b[0;31m---------------------------------------------------------------------------\u001b[0m",
      "\u001b[0;31mTypeError\u001b[0m                                 Traceback (most recent call last)",
      "Cell \u001b[0;32mIn[20], line 17\u001b[0m\n\u001b[1;32m     14\u001b[0m \u001b[38;5;28;01mfor\u001b[39;00m j, root_file \u001b[38;5;129;01min\u001b[39;00m \u001b[38;5;28menumerate\u001b[39m(treefilenames):    \n\u001b[1;32m     15\u001b[0m     \u001b[38;5;66;03m# Open each ROOT file and retrieve the TTree\u001b[39;00m\n\u001b[1;32m     16\u001b[0m     \u001b[38;5;28;01mwith\u001b[39;00m ROOT\u001b[38;5;241m.\u001b[39mTFile\u001b[38;5;241m.\u001b[39mOpen(root_file[\u001b[38;5;241m0\u001b[39m], \u001b[38;5;124m\"\u001b[39m\u001b[38;5;124mREAD\u001b[39m\u001b[38;5;124m\"\u001b[39m) \u001b[38;5;28;01mas\u001b[39;00m input_file:\n\u001b[0;32m---> 17\u001b[0m         importer \u001b[38;5;241m=\u001b[39m \u001b[43mROOT\u001b[49m\u001b[38;5;241;43m.\u001b[39;49m\u001b[43mExperimental\u001b[49m\u001b[38;5;241;43m.\u001b[39;49m\u001b[43mRNTupleImporter\u001b[49m\u001b[38;5;241;43m.\u001b[39;49m\u001b[43mCreate\u001b[49m\u001b[43m(\u001b[49m\u001b[43minput_file\u001b[49m\u001b[43m,\u001b[49m\u001b[43m \u001b[49m\u001b[43mtreename\u001b[49m\u001b[43m,\u001b[49m\u001b[43m \u001b[49m\u001b[38;5;124;43mf\u001b[39;49m\u001b[38;5;124;43m\"\u001b[39;49m\u001b[38;5;124;43mrntuple_test_\u001b[39;49m\u001b[38;5;132;43;01m{\u001b[39;49;00m\u001b[43mj\u001b[49m\u001b[38;5;132;43;01m}\u001b[39;49;00m\u001b[38;5;124;43m.root\u001b[39;49m\u001b[38;5;124;43m\"\u001b[39;49m\u001b[43m)\u001b[49m\n\u001b[1;32m     18\u001b[0m         importer\u001b[38;5;241m.\u001b[39mImport()\n",
      "\u001b[0;31mTypeError\u001b[0m: none of the 2 overloaded methods succeeded. Full details:\n  static unique_ptr<ROOT::Experimental::RNTupleImporter,default_delete<ROOT::Experimental::RNTupleImporter> > ROOT::Experimental::RNTupleImporter::Create(TTree* sourceTree, string_view destFileName) =>\n    TypeError: takes at most 2 arguments (3 given)\n  static unique_ptr<ROOT::Experimental::RNTupleImporter,default_delete<ROOT::Experimental::RNTupleImporter> > ROOT::Experimental::RNTupleImporter::Create(string_view sourceFileName, string_view treeName, string_view destFileName) =>\n    TypeError: could not convert argument 1"
     ]
    }
   ],
   "source": [
    "%%cpp -d\n",
    "import json\n",
    "\n",
    "with open(\"dataset_spec.json\", \"r\") as f:\n",
    "    dataset = json.load(f)\n",
    "\n",
    "treename = \"mini\"\n",
    "ntuplename = \"mini\"\n",
    "treefilenames = []\n",
    "\n",
    "for i in dataset['samples'].keys():\n",
    "    "
   ]
  },
  {
   "cell_type": "code",
   "execution_count": null,
   "metadata": {},
   "outputs": [],
   "source": []
  },
  {
   "cell_type": "code",
   "execution_count": null,
   "metadata": {},
   "outputs": [],
   "source": [
    "# Retrieve the list of ROOT files and the TTree name from the dataset_spec\n",
    "file_list = dataset_spec[\"files\"]  # List of ROOT file paths\n",
    "tree_name = dataset_spec[\"treename\"]  # Name of the TTree\n",
    "\n",
    "# Loop over each ROOT file in the dataset and convert its TTree to an RNTuple\n",
    "for root_file in file_list:\n",
    "    print(f\"Processing file: {root_file}\")\n",
    "    \n",
    "    # Open each ROOT file and retrieve the TTree\n",
    "    with ROOT.TFile.Open(root_file, \"READ\") as input_file:\n",
    "        if not input_file or input_file.IsZombie():\n",
    "            raise RuntimeError(f\"Error: Cannot open file '{root_file}'!\")\n",
    "\n",
    "        tree = input_file.Get(tree_name)\n",
    "        if not tree:\n",
    "            raise RuntimeError(f\"Error: TTree '{tree_name}' not found in '{root_file}'!\")\n",
    "\n",
    "        # Use RNTupleImporter to convert the TTree to an RNTuple\n",
    "        importer = ROOT.Experimental.RNTupleImporter(tree, ntuple_name, output_file_path)\n",
    "        importer.Import()\n",
    "\n",
    "print(f\"Conversion completed! RNTuple '{ntuple_name}' saved to '{output_file_path}'.\")"
   ]
  }
 ],
 "metadata": {
  "kernelspec": {
   "display_name": "Singularity kernel - Base ROOT 6.32.02 + CMSJMECalculator 0.2.0 + Correctionlib 2.6.1",
   "language": "python",
   "name": "singularity-kernel-root"
  },
  "language_info": {
   "codemirror_mode": {
    "name": "ipython",
    "version": 3
   },
   "file_extension": ".py",
   "mimetype": "text/x-python",
   "name": "python",
   "nbconvert_exporter": "python",
   "pygments_lexer": "ipython3",
   "version": "3.11.10"
  }
 },
 "nbformat": 4,
 "nbformat_minor": 4
}
