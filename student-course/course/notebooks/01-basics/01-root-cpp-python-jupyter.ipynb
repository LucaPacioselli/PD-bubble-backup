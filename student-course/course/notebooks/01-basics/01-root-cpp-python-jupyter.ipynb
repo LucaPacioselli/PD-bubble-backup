{
 "cells": [
  {
   "cell_type": "markdown",
   "metadata": {
    "slideshow": {
     "slide_type": "slide"
    }
   },
   "source": [
    "# Seamlessly blend Python and C++ with ROOT"
   ]
  },
  {
   "cell_type": "markdown",
   "metadata": {
    "slideshow": {
     "slide_type": "slide"
    }
   },
   "source": [
    "## A powerful Python interface\n",
    "\n",
    "Most of the core parts of the ROOT software library are developed in C++ to provide efficient and easily scalable execution. Like many other scientific Python packages such as numpy, ROOT can be easily used in Python thanks to a set of language bindings (in this case, between C++ and Python)."
   ]
  },
  {
   "cell_type": "markdown",
   "metadata": {
    "slideshow": {
     "slide_type": "slide"
    }
   },
   "source": [
    "## How does it work?\n",
    "\n",
    "The ROOT Python interface relies on the [cppyy](https://cppyy.readthedocs.io) technology to provide dynamic and automatic bindings that do not require boilerplate code to bridge the two languages. This in turn relies on the C++ interpreter [cling](https://cling.readthedocs.io) to access reflection information and JIT compile the code needed to access the C++ functionalities. In practice, any C++ function or class that can be exposed via the C++ interpreter gets an automatic representation in Python without need for further development or user interaction (see examples below). On top of the automatic bindings, the ROOT project contains custom Python code to enhance C++ features with a Pythonic feeling. All such enhancements are collectively called \"pythonizations\"."
   ]
  },
  {
   "cell_type": "markdown",
   "metadata": {
    "slideshow": {
     "slide_type": "slide"
    }
   },
   "source": [
    "## Using ROOT from Python\n",
    "\n",
    "ROOT can be used as any other Python module, by importing it."
   ]
  },
  {
   "cell_type": "code",
   "execution_count": 1,
   "metadata": {
    "editable": true,
    "slideshow": {
     "slide_type": "fragment"
    },
    "tags": []
   },
   "outputs": [],
   "source": [
    "import ROOT"
   ]
  },
  {
   "cell_type": "markdown",
   "metadata": {
    "slideshow": {
     "slide_type": "fragment"
    }
   },
   "source": [
    "The ROOT Python module is the entry point for all the ROOT functionality.\n",
    "\n",
    "For example, we can create a histogram with ROOT using the `TH1D` C++ class from Python:"
   ]
  },
  {
   "cell_type": "code",
   "execution_count": 2,
   "metadata": {
    "slideshow": {
     "slide_type": "fragment"
    }
   },
   "outputs": [],
   "source": [
    "h = ROOT.TH1D(\"my_histo\", \"Example histogram\", 100, -4, 4)"
   ]
  },
  {
   "cell_type": "markdown",
   "metadata": {
    "slideshow": {
     "slide_type": "slide"
    }
   },
   "source": [
    "## Calling user-defined C++ code in Python\n",
    "\n",
    "The user can write custom C++ code and access it in their Python application. For example, it is possible to declare a C++ function, as it is done below by passing its code as a string argument of the `Declare` function:"
   ]
  },
  {
   "cell_type": "code",
   "execution_count": 3,
   "metadata": {
    "slideshow": {
     "slide_type": "fragment"
    }
   },
   "outputs": [
    {
     "data": {
      "text/plain": [
       "103.14"
      ]
     },
     "execution_count": 3,
     "metadata": {},
     "output_type": "execute_result"
    }
   ],
   "source": [
    "ROOT.gInterpreter.Declare(\"\"\"\n",
    "double add(double a, double b) {\n",
    "    return a + b;\n",
    "}\n",
    "\"\"\")\n",
    "\n",
    "ROOT.add(3.14, 100)"
   ]
  },
  {
   "cell_type": "markdown",
   "metadata": {
    "slideshow": {
     "slide_type": "subslide"
    }
   },
   "source": [
    "### What about code in C++ libraries?\n",
    "\n",
    "ROOT also allows calling into code present outside of the same Python application, for example code written in external libraries. This enables you to write high-performance C++, compile it and use it from Python.\n",
    "\n",
    "More information can be found [here](https://root.cern/manual/python/#loading-user-libraries-and-just-in-time-compilation-jitting)."
   ]
  },
  {
   "cell_type": "markdown",
   "metadata": {
    "slideshow": {
     "slide_type": "slide"
    }
   },
   "source": [
    "## Type conversions\n",
    "\n",
    "When calling C++ code from Python, there is a conversion between the Python arguments we pass and the C++ arguments that the C++ side expects. The ROOT Python interface takes care of such conversion automatically, for example from Python integer to C++ integer:"
   ]
  },
  {
   "cell_type": "code",
   "execution_count": 4,
   "metadata": {
    "slideshow": {
     "slide_type": "fragment"
    }
   },
   "outputs": [
    {
     "name": "stdout",
     "output_type": "stream",
     "text": [
      "7\n"
     ]
    }
   ],
   "source": [
    "ROOT.gInterpreter.Declare(\"void print_integer(int i) { std::cout << i << std::endl; }\")\n",
    "\n",
    "ROOT.print_integer(7)"
   ]
  },
  {
   "cell_type": "markdown",
   "metadata": {
    "slideshow": {
     "slide_type": "fragment"
    }
   },
   "source": [
    "Of course not every conversion is allowed!"
   ]
  },
  {
   "cell_type": "code",
   "execution_count": 5,
   "metadata": {
    "slideshow": {
     "slide_type": "fragment"
    }
   },
   "outputs": [
    {
     "ename": "TypeError",
     "evalue": "void print_integer(int i) =>\n    TypeError: could not convert argument 1 (int conversion expects an integer object)",
     "output_type": "error",
     "traceback": [
      "\u001b[0;31m---------------------------------------------------------------------------\u001b[0m",
      "\u001b[0;31mTypeError\u001b[0m                                 Traceback (most recent call last)",
      "Cell \u001b[0;32mIn[5], line 1\u001b[0m\n\u001b[0;32m----> 1\u001b[0m \u001b[43mROOT\u001b[49m\u001b[38;5;241;43m.\u001b[39;49m\u001b[43mprint_integer\u001b[49m\u001b[43m(\u001b[49m\u001b[43m[\u001b[49m\u001b[43m]\u001b[49m\u001b[43m)\u001b[49m \u001b[38;5;66;03m# fails with TypeError\u001b[39;00m\n",
      "\u001b[0;31mTypeError\u001b[0m: void print_integer(int i) =>\n    TypeError: could not convert argument 1 (int conversion expects an integer object)"
     ]
    }
   ],
   "source": [
    "ROOT.print_integer([]) # fails with TypeError"
   ]
  },
  {
   "cell_type": "markdown",
   "metadata": {
    "slideshow": {
     "slide_type": "slide"
    }
   },
   "source": [
    "An example of a useful allowed conversion is Python list to `std::vector`:"
   ]
  },
  {
   "cell_type": "code",
   "execution_count": 6,
   "metadata": {
    "slideshow": {
     "slide_type": "fragment"
    }
   },
   "outputs": [
    {
     "name": "stdout",
     "output_type": "stream",
     "text": [
      "Two\n",
      "Words\n"
     ]
    }
   ],
   "source": [
    "ROOT.gInterpreter.Declare(\"\"\"\n",
    "void print_vector(const std::vector<std::string> &v) {\n",
    "    for (auto &&s : v) {\n",
    "        std::cout << s << std::endl;\n",
    "    }\n",
    "}\n",
    "\"\"\")\n",
    "\n",
    "ROOT.print_vector(['Two', 'Words'])"
   ]
  },
  {
   "cell_type": "markdown",
   "metadata": {
    "slideshow": {
     "slide_type": "slide"
    }
   },
   "source": [
    "## A final note on performance\n",
    "\n",
    "Being able to call into C++ from Python does not guarantee that the performance of your Python script will always be the best, no matter what code you write!\n",
    "\n",
    "In general, any heavy computation should be pushed to C++, e.g. encapsulating it in some C++ function that you call from Python or relying on libraries with fast C/C++ implementations (e.g. ROOT, NumPy).\n",
    "\n",
    "In the context of high-energy physics, iterating over the collision events in a dataset is a common operation. Such iteration in Python can be slow for big datasets and should only be done during short exploratory work. Later in this course we will see how the event loop can be efficiently executed in C++, even from a Python script, with the help of ROOT's [RDataFrame](https://root.cern/doc/master/classROOT_1_1RDataFrame.html).\n",
    "\n",
    "```python\n",
    "# This can be slow!\n",
    "for event in dataset:\n",
    "    h.Fill(event.field)\n",
    "```"
   ]
  },
  {
   "cell_type": "markdown",
   "metadata": {},
   "source": [
    "# ROOT in Jupyter\n",
    "\n",
    "ROOT can be used in Jupyter notebooks, both in Python and C++. In this course we will focus only on Python, but for people interested in ROOT C++ notebooks some examples can be found [here](https://swan-gallery.web.cern.ch/root_primer/).\n",
    "\n",
    "There are some specificities and extra features available when running ROOT from a notebook, and that's what will be covered in this section!\n"
   ]
  },
  {
   "cell_type": "markdown",
   "metadata": {},
   "source": [
    "## ROOT Graphics in a notebook\n",
    "\n",
    "There are two modes in which we can visualize ROOT plots in a notebook\n",
    "* Static images (default)\n",
    "* Interactive JavaScript displays\n",
    "\n",
    "To see an example, let's first create a histogram and fill it with random numbers following a Gaussian distribution:"
   ]
  },
  {
   "cell_type": "code",
   "execution_count": 7,
   "metadata": {},
   "outputs": [
    {
     "name": "stderr",
     "output_type": "stream",
     "text": [
      "Warning in <TROOT::Append>: Replacing existing TH1: my_histo (Potential memory leak).\n"
     ]
    }
   ],
   "source": [
    "h = ROOT.TH1D(\"my_histo\", \"Example histogram\", 100, -4, 4)\n",
    "h.FillRandom(\"gaus\")"
   ]
  },
  {
   "cell_type": "markdown",
   "metadata": {},
   "source": [
    "Now let's plot the histogram. For that purpose, we first need to create a canvas, then draw the histogram and finally draw the canvas. See how the output is a static image."
   ]
  },
  {
   "cell_type": "code",
   "execution_count": 8,
   "metadata": {},
   "outputs": [
    {
     "data": {
      "image/png": "[encoded data removed]",
      "text/plain": [
       "<IPython.core.display.Image object>"
      ]
     },
     "metadata": {},
     "output_type": "display_data"
    }
   ],
   "source": [
    "c = ROOT.TCanvas()\n",
    "h.Draw()\n",
    "c.Draw() # don't forget to draw the canvas too!"
   ]
  },
  {
   "cell_type": "markdown",
   "metadata": {},
   "source": [
    "## Shortcut for injecting C++ code in a notebook\n",
    "\n",
    "In a notebook, we can use the `%%cpp` magic to declare C++ code to the interpreter. If `%%cpp` is present in a cell, its whole content is interpreted and executed as C++, and it has C++ syntax coloring!"
   ]
  },
  {
   "cell_type": "code",
   "execution_count": 1,
   "metadata": {},
   "outputs": [
    {
     "name": "stderr",
     "output_type": "stream",
     "text": [
      "UsageError: Cell magic `%%cpp` not found.\n"
     ]
    }
   ],
   "source": [
    "%%cpp\n",
    "void print_integer_2(int i) {\n",
    "   std::cout << i << std::endl;\n",
    "}"
   ]
  },
  {
   "cell_type": "markdown",
   "metadata": {},
   "source": [
    "The function we just defined in the previous (C++) cell can be now invoked from the next (Python) cell:"
   ]
  },
  {
   "cell_type": "code",
   "execution_count": 10,
   "metadata": {},
   "outputs": [
    {
     "name": "stdout",
     "output_type": "stream",
     "text": [
      "7\n"
     ]
    }
   ],
   "source": [
    "ROOT.print_integer_2(7)"
   ]
  },
  {
   "cell_type": "markdown",
   "metadata": {},
   "source": [
    "## Redefining C++ entities\n",
    "\n",
    "In C++, redefinition of entities such as variables is not allowed. However, ROOT provides a cool redefinition feature that is especially useful in interactive interfaces like notebooks. This feature works for types, functions and variables defined in the global namespace.\n",
    "\n",
    "You can check it by running the next cells, even multiple times!"
   ]
  },
  {
   "cell_type": "code",
   "execution_count": 11,
   "metadata": {},
   "outputs": [],
   "source": [
    "%%cpp\n",
    "int foo = 0;"
   ]
  },
  {
   "cell_type": "code",
   "execution_count": 12,
   "metadata": {},
   "outputs": [],
   "source": [
    "%%cpp\n",
    "class foo {};"
   ]
  },
  {
   "cell_type": "code",
   "execution_count": 13,
   "metadata": {},
   "outputs": [],
   "source": [
    "%%cpp\n",
    "void foo() {}"
   ]
  }
 ],
 "metadata": {
  "celltoolbar": "Slideshow",
  "kernelspec": {
   "display_name": "Singularity kernel - Base ROOT 6.32.02 + CMSJMECalculator 0.2.0 + Correctionlib 2.6.1",
   "language": "python",
   "name": "singularity-kernel-root"
  },
  "language_info": {
   "codemirror_mode": {
    "name": "ipython",
    "version": 3
   },
   "file_extension": ".py",
   "mimetype": "text/x-python",
   "name": "python",
   "nbconvert_exporter": "python",
   "pygments_lexer": "ipython3",
   "version": "3.11.10"
  }
 },
 "nbformat": 4,
 "nbformat_minor": 4
}
