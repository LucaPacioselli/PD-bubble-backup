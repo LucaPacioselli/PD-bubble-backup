{
 "cells": [
  {
   "cell_type": "markdown",
   "id": "cd70edc7",
   "metadata": {
    "slideshow": {
     "slide_type": "slide"
    }
   },
   "source": [
    "# Save datasets to a ROOT file after processing\n",
    "\n",
    "With RDataFrame, you can read your dataset, add new columns with processed values and finally use `Snapshot` to save the resulting data to a ROOT file in TTree format."
   ]
  },
  {
   "cell_type": "code",
   "execution_count": 1,
   "id": "308c56f0",
   "metadata": {
    "slideshow": {
     "slide_type": "subslide"
    }
   },
   "outputs": [],
   "source": [
    "import ROOT\n",
    "\n",
    "df = ROOT.RDataFrame(\"dataset\",\"../../data/example_file.root\")\n",
    "df1 = df.Define(\"c\",\"a+b\")\n",
    "\n",
    "out_treename = \"outtree\"\n",
    "out_filename = \"outtree.root\"\n",
    "out_columns = [\"a\",\"b\",\"c\"]\n",
    "\n",
    "snapdf = df1.Snapshot(out_treename, out_filename, out_columns)"
   ]
  },
  {
   "cell_type": "markdown",
   "id": "ecaaed15",
   "metadata": {
    "slideshow": {
     "slide_type": "subslide"
    }
   },
   "source": [
    "We can now check that the dataset was correctly stored in a file:"
   ]
  },
  {
   "cell_type": "code",
   "execution_count": 2,
   "id": "7ca9de7b",
   "metadata": {
    "slideshow": {
     "slide_type": "fragment"
    }
   },
   "outputs": [
    {
     "name": "stdout",
     "output_type": "stream",
     "text": [
      "TTree  Jan 16 14:50 2025 outtree;1 \"outtree\" \n",
      "  a  \"a/D\"  16071\n",
      "  b  \"b/D\"  16071\n",
      "  c  \"c/D\"  16071\n",
      "  Cluster INCLUSIVE ranges:\n",
      "   - # 0: [0, 1999]\n",
      "  The total number of clusters is 1\n"
     ]
    }
   ],
   "source": [
    "%%bash\n",
    "rootls -lt outtree.root"
   ]
  },
  {
   "cell_type": "markdown",
   "id": "55b7bc7f",
   "metadata": {
    "slideshow": {
     "slide_type": "subslide"
    }
   },
   "source": [
    "Result of a Snapshot is still an RDataFrame that can be further used:"
   ]
  },
  {
   "cell_type": "code",
   "execution_count": 3,
   "id": "23f46a0b",
   "metadata": {
    "slideshow": {
     "slide_type": "fragment"
    }
   },
   "outputs": [
    {
     "name": "stdout",
     "output_type": "stream",
     "text": [
      "+-----+-----------+----------+-----------+\n",
      "| Row | a         | b        | c         | \n",
      "+-----+-----------+----------+-----------+\n",
      "| 0   | 0.977711  | 0.999742 | 1.977453  | \n",
      "+-----+-----------+----------+-----------+\n",
      "| 1   | 2.280201  | 0.484974 | 2.765175  | \n",
      "+-----+-----------+----------+-----------+\n",
      "| 2   | 0.563482  | 0.392314 | 0.955796  | \n",
      "+-----+-----------+----------+-----------+\n",
      "| 3   | 3.042156  | 0.333539 | 3.375695  | \n",
      "+-----+-----------+----------+-----------+\n",
      "| 4   | 28.574399 | 0.648126 | 29.222524 | \n",
      "+-----+-----------+----------+-----------+\n"
     ]
    }
   ],
   "source": [
    "snapdf.Display().Print()"
   ]
  },
  {
   "cell_type": "markdown",
   "id": "119e0f60",
   "metadata": {
    "slideshow": {
     "slide_type": "subslide"
    }
   },
   "source": [
    "Further options can be passed as the fourth argument to the `Snapshot` call, through an object of type `RSnapshotOptions`. Different options control different behaviours of the snapshot, see more at https://root.cern/doc/master/structROOT_1_1RDF_1_1RSnapshotOptions.html."
   ]
  },
  {
   "cell_type": "code",
   "execution_count": 4,
   "id": "6a2e0cd9",
   "metadata": {},
   "outputs": [],
   "source": [
    "options = ROOT.RDF.RSnapshotOptions()\n",
    "\n",
    "# Force lazy snapshot: it will not be triggered right away\n",
    "options.fLazy = True\n",
    "\n",
    "# Avoid changing input columns of type `std::vector` to `ROOT::RVec` when saving\n",
    "options.fVector2RVec = False\n",
    "\n",
    "snapdf_withopts = df1.Snapshot(out_treename, out_filename, out_columns, options)"
   ]
  },
  {
   "cell_type": "markdown",
   "id": "d98928de",
   "metadata": {
    "slideshow": {
     "slide_type": "slide"
    }
   },
   "source": [
    "# Cutflow reports\n",
    "Filters applied to the dataset can be given a name. The `Report` method will gather information about filter efficiency and show the data flow between subsequent cuts on the original dataset.\n"
   ]
  },
  {
   "cell_type": "code",
   "execution_count": 5,
   "id": "d7610f52",
   "metadata": {
    "slideshow": {
     "slide_type": "fragment"
    }
   },
   "outputs": [
    {
     "name": "stdout",
     "output_type": "stream",
     "text": [
      "Lepton eta cut: pass=4880       all=10000      -- eff=48.80 % cumulative eff=48.80 %\n",
      "Lepton phi cut: pass=3842       all=4880       -- eff=78.73 % cumulative eff=38.42 %\n"
     ]
    }
   ],
   "source": [
    "df = ROOT.RDataFrame(\"sig_tree\", \"https://root.cern/files/Higgs_data.root\")\n",
    "\n",
    "filter1 = df.Filter(\"lepton_eta > 0\", \"Lepton eta cut\")\n",
    "filter2 = filter1.Filter(\"lepton_phi < 1\", \"Lepton phi cut\")\n",
    "\n",
    "rep = df.Report()\n",
    "rep.Print()"
   ]
  },
  {
   "cell_type": "markdown",
   "id": "f3be5b9d",
   "metadata": {
    "slideshow": {
     "slide_type": "slide"
    }
   },
   "source": [
    "# Using C++ functions in Python\n",
    "- We still want to perform complex operations in Python but plain Python code is prone to be slow and not thread-safe. \n",
    "\n",
    "- Instead, you can inject C++ functions that will do the work in your event loop during runtime. \n",
    "\n",
    "- This mechanism uses the C++ interpreter `cling` shipped with ROOT, making this possible in a single line of code. \n",
    "\n",
    "- Let's start by defining a function that will allow us to change the type of a the RDataFrame dataset entry numbers (stored in the special column \"rdfentry\") from `unsigned long long` to `float`."
   ]
  },
  {
   "cell_type": "code",
   "execution_count": 6,
   "id": "9a1bcee4",
   "metadata": {
    "slideshow": {
     "slide_type": "fragment"
    }
   },
   "outputs": [],
   "source": [
    "%%cpp\n",
    "\n",
    "float asfloat(unsigned long long entrynumber){\n",
    "    return entrynumber;\n",
    "}"
   ]
  },
  {
   "cell_type": "markdown",
   "id": "1b8f4bd1",
   "metadata": {
    "slideshow": {
     "slide_type": "subslide"
    }
   },
   "source": [
    "Then let's define another function that takes a `float` values and computes its square."
   ]
  },
  {
   "cell_type": "code",
   "execution_count": 7,
   "id": "6d3a8b4f",
   "metadata": {
    "slideshow": {
     "slide_type": "fragment"
    }
   },
   "outputs": [],
   "source": [
    "%%cpp\n",
    "\n",
    "float square(float val){\n",
    "    return val * val;\n",
    "}"
   ]
  },
  {
   "cell_type": "markdown",
   "id": "90522e44",
   "metadata": {
    "slideshow": {
     "slide_type": "subslide"
    }
   },
   "source": [
    "And now let's use these functions with RDataFrame! \n",
    "\n",
    "We start by creating an empty RDataFrame with 100 consecutive entries and defining new columns on it:"
   ]
  },
  {
   "cell_type": "code",
   "execution_count": 8,
   "id": "0edd70d3",
   "metadata": {
    "slideshow": {
     "slide_type": "fragment"
    }
   },
   "outputs": [],
   "source": [
    "# Create a new RDataFrame from scratch with 100 consecutive entries\n",
    "df = ROOT.RDataFrame(100)\n",
    "\n",
    "# Create a new column using the previously declared C++ functions\n",
    "df1 = df.Define(\"a\", \"asfloat(rdfentry_)\")\n",
    "df2 = df1.Define(\"b\", \"square(a)\")"
   ]
  },
  {
   "cell_type": "markdown",
   "id": "5b1005d7",
   "metadata": {
    "slideshow": {
     "slide_type": "subslide"
    }
   },
   "source": [
    "We can now plot the values of the columns in a graph:"
   ]
  },
  {
   "cell_type": "code",
   "execution_count": 9,
   "id": "18a35cd0",
   "metadata": {
    "slideshow": {
     "slide_type": "fragment"
    }
   },
   "outputs": [
    {
     "data": {
      "image/png": "[encoded data removed]",
      "text/plain": [
       "<IPython.core.display.Image object>"
      ]
     },
     "metadata": {},
     "output_type": "display_data"
    }
   ],
   "source": [
    "# Show the two columns created in a graph\n",
    "c = ROOT.TCanvas()\n",
    "graph = df2.Graph(\"a\",\"b\")\n",
    "graph.SetMarkerStyle(20)\n",
    "graph.SetMarkerSize(0.5)\n",
    "graph.SetMarkerColor(ROOT.kBlue)\n",
    "graph.SetTitle(\"My graph\")\n",
    "graph.Draw(\"AP\")\n",
    "c.Draw()"
   ]
  },
  {
   "cell_type": "markdown",
   "id": "072ae85d",
   "metadata": {
    "slideshow": {
     "slide_type": "slide"
    }
   },
   "source": [
    "# Using all cores of your machine with multi-threaded RDataFrame\n",
    "- RDataFrame can transparently perform multi-threaded event loops to speed up the execution of its actions. \n",
    "\n",
    "- Users have to call `ROOT::EnableImplicitMT()` before constructing the RDataFrame object to indicate that it should take advantage of a pool of worker threads. \n",
    "\n",
    "- Each worker thread processes a distinct subset of entries, and their partial results are merged before returning the final values to the user.\n",
    "\n",
    "- RDataFrame operations such as Histo1D or Snapshot are guaranteed to work correctly in multi-thread event loops. \n",
    "\n",
    "- User-defined expressions, such as strings or lambdas passed to `Filter`, `Define`, `Foreach`, `Reduce` or `Aggregate` will have to be thread-safe, i.e. it should be possible to call them concurrently from different threads."
   ]
  },
  {
   "cell_type": "code",
   "execution_count": 10,
   "id": "f2d4528b",
   "metadata": {
    "slideshow": {
     "slide_type": "subslide"
    }
   },
   "outputs": [
    {
     "name": "stdout",
     "output_type": "stream",
     "text": [
      "CPU times: user 995 ms, sys: 9.61 ms, total: 1 s\n",
      "Wall time: 1.01 s\n"
     ]
    },
    {
     "data": {
      "text/plain": [
       "0.4966851343353398"
      ]
     },
     "execution_count": 10,
     "metadata": {},
     "output_type": "execute_result"
    }
   ],
   "source": [
    "%%time\n",
    "# Get a first baseline measurement\n",
    "\n",
    "treename = \"myDataset\"\n",
    "filename = \"../../data/collections_dataset.root\"\n",
    "df = ROOT.RDataFrame(treename, filename)\n",
    "df1 = df.Define(\"good_pt\", \"sqrt(px*px + py*py)[E>100]\")\n",
    "\n",
    "df1.Mean(\"good_pt\").GetValue()"
   ]
  },
  {
   "cell_type": "code",
   "execution_count": 11,
   "id": "ec2afbc4",
   "metadata": {
    "slideshow": {
     "slide_type": "subslide"
    }
   },
   "outputs": [
    {
     "name": "stdout",
     "output_type": "stream",
     "text": [
      "CPU times: user 178 ms, sys: 3.69 ms, total: 181 ms\n",
      "Wall time: 182 ms\n"
     ]
    }
   ],
   "source": [
    "%%time\n",
    "# Activate multithreading capabilities\n",
    "# By default takes all available cores on the machine\n",
    "ROOT.EnableImplicitMT()\n",
    "\n",
    "treename = \"myDataset\"\n",
    "filename = \"../../data/collections_dataset.root\"\n",
    "df = ROOT.RDataFrame(treename, filename)\n",
    "df1 = df.Define(\"good_pt\", \"sqrt(px*px + py*py)[E>100]\")\n",
    "\n",
    "df1.Mean(\"good_pt\").GetValue()\n",
    "\n",
    "# Disable implicit multithreading when done\n",
    "ROOT.DisableImplicitMT()"
   ]
  },
  {
   "cell_type": "markdown",
   "id": "3f6561a9",
   "metadata": {},
   "source": [
    "# Working with multiple samples in the dataset\n",
    "\n",
    "Once the analysis starts including more than one sample (e.g. different physics processes, real data vs simulation etc.), RDataFrame allows treating them separately within the computation graph. As a rule of thumb, creating one single RDataFrame taking in all the input data samples needed in the analysis should be aimed for. This results in only one JIT compilation for the entire analysis, and also better scheduling opportunities.\n",
    "\n",
    "The [`DefinePerSample`](https://root.cern/doc/master/classROOT_1_1RDF_1_1RInterface.html#a29d77593e95c0f84e359a802e6836a0e) method allows working with multiple samples in the dataset. It accepts a function that takes two input parameters, the slot and the sample info, which is evaluated once at the beginning of every new file in the chain. In Python, the two input parameters are available via the magic columns `rdfslot_` and `rdfsampleinfo_`. The latter contains an object of type [`RSampleInfo`](https://root.cern/doc/master/classROOT_1_1RDF_1_1RSampleInfo.html) with all the information available for the current sample being processed."
   ]
  },
  {
   "cell_type": "code",
   "execution_count": 12,
   "id": "9d737c19",
   "metadata": {},
   "outputs": [
    {
     "name": "stdout",
     "output_type": "stream",
     "text": [
      "+-----+----+--------+\n",
      "| Row | x  | weight | \n",
      "+-----+----+--------+\n",
      "| 0   | 42 | 11     | \n",
      "+-----+----+--------+\n",
      "| 1   | 42 | 11     | \n",
      "+-----+----+--------+\n",
      "| 2   | 42 | 11     | \n",
      "+-----+----+--------+\n",
      "| 3   | 42 | 11     | \n",
      "+-----+----+--------+\n",
      "| 4   | 42 | 11     | \n",
      "+-----+----+--------+\n",
      "| 5   | 42 | 22     | \n",
      "+-----+----+--------+\n",
      "| 6   | 42 | 22     | \n",
      "+-----+----+--------+\n",
      "| 7   | 42 | 22     | \n",
      "+-----+----+--------+\n",
      "| 8   | 42 | 22     | \n",
      "+-----+----+--------+\n",
      "| 9   | 42 | 22     | \n",
      "+-----+----+--------+\n"
     ]
    }
   ],
   "source": [
    "def create_sample(sample_name):\n",
    "    ROOT.RDataFrame(5).Define(\"x\", \"42\").Snapshot(\"Events\", sample_name)\n",
    "\n",
    "samples = [\"sample_A.root\", \"sample_B.root\"]\n",
    "for sample in samples:\n",
    "    create_sample(sample)\n",
    "\n",
    "df = ROOT.RDataFrame(\"Events\", samples)\n",
    "df = df.DefinePerSample(\"weight\", 'rdfsampleinfo_.Contains(\"sample_A\") ? 11 : 22')\n",
    "\n",
    "df.Display([\"x\", \"weight\"], 10).Print()"
   ]
  },
  {
   "attachments": {},
   "cell_type": "markdown",
   "id": "b3fbd633",
   "metadata": {
    "slideshow": {
     "slide_type": "slide"
    }
   },
   "source": [
    "# Multiple concurrent RDataFrame runs\n",
    "If your analysis needs multiple RDataFrames to run (for example multiple dataset samples, data vs simulation etc.), make use of `ROOT.RDF.RunGraphs` "
   ]
  },
  {
   "cell_type": "code",
   "execution_count": 13,
   "id": "f342906a",
   "metadata": {
    "slideshow": {
     "slide_type": "subslide"
    }
   },
   "outputs": [],
   "source": [
    "ROOT.EnableImplicitMT()\n",
    "treename1 = \"myDataset\"\n",
    "filename1 = \"../../data/collections_dataset.root\"\n",
    "treename2 = \"dataset\"\n",
    "filename2 = \"../../data/example_file.root\"\n",
    "\n",
    "df1 = ROOT.RDataFrame(treename1, filename1)\n",
    "df2 = ROOT.RDataFrame(treename2, filename2)\n",
    "h1 = df1.Histo1D(\"px\")\n",
    "h2 = df2.Histo1D(\"a\")\n",
    "\n",
    "\n",
    "ROOT.RDF.RunGraphs((h1, h2))\n",
    "ROOT.DisableImplicitMT()"
   ]
  },
  {
   "cell_type": "code",
   "execution_count": 14,
   "id": "1b715694",
   "metadata": {
    "slideshow": {
     "slide_type": "subslide"
    }
   },
   "outputs": [
    {
     "data": {
      "image/png": "[encoded data removed]",
      "text/plain": [
       "<IPython.core.display.Image object>"
      ]
     },
     "metadata": {},
     "output_type": "display_data"
    }
   ],
   "source": [
    "c = ROOT.TCanvas()\n",
    "h1.Draw()\n",
    "c.Draw()"
   ]
  },
  {
   "cell_type": "code",
   "execution_count": 15,
   "id": "795a5420",
   "metadata": {
    "slideshow": {
     "slide_type": "subslide"
    }
   },
   "outputs": [
    {
     "data": {
      "image/png": "[encoded data removed]",
      "text/plain": [
       "<IPython.core.display.Image object>"
      ]
     },
     "metadata": {},
     "output_type": "display_data"
    }
   ],
   "source": [
    "c = ROOT.TCanvas()\n",
    "h2.Draw()\n",
    "c.Draw()"
   ]
  },
  {
   "attachments": {},
   "cell_type": "markdown",
   "id": "799b981e",
   "metadata": {
    "slideshow": {
     "slide_type": "slide"
    }
   },
   "source": [
    "# Re-defining values of a column\n",
    "\n",
    "Sometimes you might want to keep a column with the same name, but modify its values. This is available via the `Redefine` method."
   ]
  },
  {
   "cell_type": "code",
   "execution_count": 16,
   "id": "374e35a3",
   "metadata": {
    "slideshow": {
     "slide_type": "subslide"
    }
   },
   "outputs": [
    {
     "name": "stdout",
     "output_type": "stream",
     "text": [
      "+-----+----+\n",
      "| Row | x  | \n",
      "+-----+----+\n",
      "| 0   | 42 | \n",
      "+-----+----+\n",
      "| 1   | 42 | \n",
      "+-----+----+\n",
      "| 2   | 42 | \n",
      "+-----+----+\n",
      "| 3   | 42 | \n",
      "+-----+----+\n",
      "| 4   | 42 | \n",
      "+-----+----+\n"
     ]
    }
   ],
   "source": [
    "df = ROOT.RDataFrame(5).Define(\"x\", \"42\")\n",
    "df.Display().Print()"
   ]
  },
  {
   "cell_type": "code",
   "execution_count": 17,
   "id": "a7a7a553",
   "metadata": {
    "slideshow": {
     "slide_type": "subslide"
    }
   },
   "outputs": [
    {
     "name": "stdout",
     "output_type": "stream",
     "text": [
      "+-----+-----+\n",
      "| Row | x   | \n",
      "+-----+-----+\n",
      "| 0   | 420 | \n",
      "+-----+-----+\n",
      "| 1   | 420 | \n",
      "+-----+-----+\n",
      "| 2   | 420 | \n",
      "+-----+-----+\n",
      "| 3   | 420 | \n",
      "+-----+-----+\n",
      "| 4   | 420 | \n",
      "+-----+-----+\n"
     ]
    }
   ],
   "source": [
    "df = df.Redefine(\"x\", \"x * 10\")\n",
    "df.Display().Print()"
   ]
  },
  {
   "attachments": {},
   "cell_type": "markdown",
   "id": "d820208f",
   "metadata": {
    "slideshow": {
     "slide_type": "subslide"
    }
   },
   "source": [
    "Notice how we could use the previous values of the `\"x\"` column to define the new values."
   ]
  },
  {
   "cell_type": "markdown",
   "id": "7732c944",
   "metadata": {},
   "source": []
  }
 ],
 "metadata": {
  "celltoolbar": "Slideshow",
  "kernelspec": {
   "display_name": "Singularity kernel - Base ROOT 6.32.02 + CMSJMECalculator 0.2.0 + Correctionlib 2.6.1",
   "language": "python",
   "name": "singularity-kernel-root"
  },
  "language_info": {
   "codemirror_mode": {
    "name": "ipython",
    "version": 3
   },
   "file_extension": ".py",
   "mimetype": "text/x-python",
   "name": "python",
   "nbconvert_exporter": "python",
   "pygments_lexer": "ipython3",
   "version": "3.11.10"
  }
 },
 "nbformat": 4,
 "nbformat_minor": 5
}
