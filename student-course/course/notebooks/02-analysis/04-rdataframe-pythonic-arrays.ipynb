{
 "cells": [
  {
   "attachments": {},
   "cell_type": "markdown",
   "id": "2e8e9ace",
   "metadata": {
    "slideshow": {
     "slide_type": "slide"
    }
   },
   "source": [
    "## Working with `numpy` arrays\n",
    "- RDataFrame offers interoperability with `numpy` arrays. \n",
    "\n",
    "- It can be created from a dictionary of such arrays and it can also export its contents to the same format. \n",
    "\n",
    "- All operations are available also when using the `numpy`-based dataset.\n",
    "\n",
    "- **Note:** this support is limited to one-dimensional numpy arrays, which are directly mapped to columns in the RDataFrame."
   ]
  },
  {
   "cell_type": "code",
   "execution_count": 1,
   "id": "128e586a",
   "metadata": {
    "slideshow": {
     "slide_type": "subslide"
    }
   },
   "outputs": [
    {
     "name": "stdout",
     "output_type": "stream",
     "text": [
      "Columns in the RDataFrame: { \"a\", \"b\", \"c\" }\n"
     ]
    }
   ],
   "source": [
    "import numpy\n",
    "import ROOT\n",
    "\n",
    "np_dict = {colname: numpy.random.rand(100) for colname in [\"a\",\"b\",\"c\"]}\n",
    "\n",
    "df = ROOT.RDF.FromNumpy(np_dict)\n",
    "\n",
    "print(f\"Columns in the RDataFrame: {df.GetColumnNames()}\")"
   ]
  },
  {
   "cell_type": "code",
   "execution_count": 2,
   "id": "dde693ee",
   "metadata": {
    "slideshow": {
     "slide_type": "subslide"
    }
   },
   "outputs": [
    {
     "name": "stdout",
     "output_type": "stream",
     "text": [
      "Number of rows in the dataset: 100\n",
      "Average value of column a: 0.48921477639247996\n"
     ]
    },
    {
     "data": {
      "image/png": "[encoded data removed]",
      "text/plain": [
       "<IPython.core.display.Image object>"
      ]
     },
     "metadata": {},
     "output_type": "display_data"
    }
   ],
   "source": [
    "co = df.Count()\n",
    "m_a = df.Mean(\"a\")\n",
    "\n",
    "fil1 = df.Filter(\"c < 0.7\")\n",
    "def1 = fil1.Define(\"d\", \"a+b+c\")\n",
    "h = def1.Histo1D(\"d\")\n",
    "\n",
    "c = ROOT.TCanvas()\n",
    "h.Draw()\n",
    "\n",
    "print(f\"Number of rows in the dataset: {co.GetValue()}\")\n",
    "print(f\"Average value of column a: {m_a.GetValue()}\")\n",
    "c.Draw()"
   ]
  },
  {
   "cell_type": "code",
   "execution_count": 3,
   "id": "47a18efa",
   "metadata": {
    "scrolled": true,
    "slideshow": {
     "slide_type": "subslide"
    }
   },
   "outputs": [
    {
     "data": {
      "text/plain": [
       "{'a': ndarray([0.35663887, 0.18288054, 0.13945408, 0.84403814, 0.7675917 ,\n",
       "          0.46709406, 0.39817288, 0.43298707, 0.19102232, 0.65400261,\n",
       "          0.49458541, 0.45784557, 0.27529458, 0.67782611, 0.95573896,\n",
       "          0.95073836, 0.62535428, 0.54411688, 0.62116484, 0.75356698,\n",
       "          0.86821219, 0.22346109, 0.15338141, 0.26375769, 0.36376758,\n",
       "          0.55608815, 0.93771958, 0.95965317, 0.17919292, 0.62048719,\n",
       "          0.77780525, 0.49364283, 0.03306324, 0.33254398, 0.91168613,\n",
       "          0.22858143, 0.83758323, 0.78835353, 0.94971123, 0.14400142,\n",
       "          0.97414147, 0.85192082, 0.28306534, 0.09160143, 0.00108422,\n",
       "          0.47005179, 0.52228571, 0.91299077, 0.94467149, 0.53051214,\n",
       "          0.9237502 , 0.60914812, 0.25039663, 0.47605016, 0.29358855,\n",
       "          0.63140268, 0.2481417 , 0.21119568, 0.37920118]),\n",
       " 'b': ndarray([0.55964995, 0.35629299, 0.76539779, 0.99434058, 0.50630448,\n",
       "          0.77326795, 0.14503139, 0.71117003, 0.53938836, 0.55185374,\n",
       "          0.33355514, 0.21271673, 0.24661918, 0.6099454 , 0.00568796,\n",
       "          0.02321432, 0.3094288 , 0.77038019, 0.76981488, 0.02680707,\n",
       "          0.77269457, 0.59907391, 0.23505629, 0.00402452, 0.90998059,\n",
       "          0.8886844 , 0.6742529 , 0.53299449, 0.19507368, 0.24024025,\n",
       "          0.38851673, 0.33779905, 0.66511772, 0.72077883, 0.75846592,\n",
       "          0.42733091, 0.98010999, 0.95169416, 0.46136988, 0.98061915,\n",
       "          0.33745359, 0.98547948, 0.47326702, 0.79267647, 0.81169765,\n",
       "          0.22575741, 0.74629548, 0.77131409, 0.40645061, 0.22543901,\n",
       "          0.89426166, 0.76186287, 0.97579099, 0.66112962, 0.34456887,\n",
       "          0.88861405, 0.7374664 , 0.36950869, 0.10845789]),\n",
       " 'c': ndarray([0.38413441, 0.26425255, 0.54846065, 0.37184668, 0.5647573 ,\n",
       "          0.57271316, 0.48092329, 0.56057848, 0.1810049 , 0.69621671,\n",
       "          0.18584124, 0.1862762 , 0.3898316 , 0.6372523 , 0.64696465,\n",
       "          0.4916617 , 0.15655952, 0.16505819, 0.33608039, 0.6090659 ,\n",
       "          0.14138118, 0.17892274, 0.44121228, 0.24264791, 0.50082993,\n",
       "          0.00893858, 0.69374819, 0.09471492, 0.58682345, 0.35421598,\n",
       "          0.41384471, 0.65905891, 0.21369805, 0.10822391, 0.13354784,\n",
       "          0.26603513, 0.12772254, 0.49979224, 0.50249727, 0.45018055,\n",
       "          0.16163828, 0.47647397, 0.6086588 , 0.12690816, 0.26220414,\n",
       "          0.1559806 , 0.04042222, 0.35327983, 0.25692206, 0.22845927,\n",
       "          0.12681705, 0.28000798, 0.69582091, 0.06495905, 0.35465583,\n",
       "          0.04251457, 0.55392097, 0.428273  , 0.61040119]),\n",
       " 'd': ndarray([1.30042324, 0.80342609, 1.45331252, 2.21022541, 1.83865348,\n",
       "          1.81307517, 1.02412757, 1.70473559, 0.91141558, 1.90207306,\n",
       "          1.01398179, 0.8568385 , 0.91174536, 1.92502381, 1.60839157,\n",
       "          1.46561439, 1.09134259, 1.47955525, 1.72706011, 1.38943996,\n",
       "          1.78228794, 1.00145774, 0.82964998, 0.51043011, 1.7745781 ,\n",
       "          1.45371114, 2.30572066, 1.58736258, 0.96109005, 1.21494342,\n",
       "          1.58016669, 1.49050079, 0.91187901, 1.16154673, 1.80369989,\n",
       "          0.92194747, 1.94541576, 2.23983993, 1.91357838, 1.57480113,\n",
       "          1.47323334, 2.31387426, 1.36499115, 1.01118606, 1.074986  ,\n",
       "          0.85178979, 1.30900342, 2.03758469, 1.60804415, 0.98441042,\n",
       "          1.94482892, 1.65101897, 1.92200852, 1.20213883, 0.99281325,\n",
       "          1.56253131, 1.53952907, 1.00897737, 1.09806025])}"
      ]
     },
     "execution_count": 3,
     "metadata": {},
     "output_type": "execute_result"
    }
   ],
   "source": [
    "# Export the modified dataframe to a dictionary of numpy arrays\n",
    "\n",
    "np_dict_mod = def1.AsNumpy()\n",
    "\n",
    "np_dict_mod"
   ]
  },
  {
   "cell_type": "code",
   "execution_count": 6,
   "id": "93af9a52-6203-4d40-8c04-b4f65f6d4d02",
   "metadata": {},
   "outputs": [
    {
     "name": "stdout",
     "output_type": "stream",
     "text": [
      "+-----+----------+----------+----------+\n",
      "| Row | a        | b        | c        | \n",
      "+-----+----------+----------+----------+\n",
      "| 0   | 0.571572 | 0.406734 | 0.973018 | \n",
      "+-----+----------+----------+----------+\n",
      "| 1   | 0.202523 | 0.575846 | 0.862338 | \n",
      "+-----+----------+----------+----------+\n",
      "| 2   | 0.356639 | 0.559650 | 0.384134 | \n",
      "+-----+----------+----------+----------+\n",
      "| 3   | 0.182881 | 0.356293 | 0.264253 | \n",
      "+-----+----------+----------+----------+\n",
      "| 4   | 0.693288 | 0.036285 | 0.970740 | \n",
      "+-----+----------+----------+----------+\n",
      "| 5   | 0.139454 | 0.765398 | 0.548461 | \n",
      "+-----+----------+----------+----------+\n",
      "| 6   | 0.942940 | 0.570549 | 0.952993 | \n",
      "+-----+----------+----------+----------+\n",
      "| 7   | 0.844038 | 0.994341 | 0.371847 | \n",
      "+-----+----------+----------+----------+\n",
      "| 8   | 0.767592 | 0.506304 | 0.564757 | \n",
      "+-----+----------+----------+----------+\n",
      "| 9   | 0.467094 | 0.773268 | 0.572713 | \n",
      "+-----+----------+----------+----------+\n",
      "| 10  | 0.498935 | 0.367709 | 0.849055 | \n",
      "+-----+----------+----------+----------+\n",
      "| 11  | 0.398173 | 0.145031 | 0.480923 | \n",
      "+-----+----------+----------+----------+\n",
      "| 12  | 0.432987 | 0.711170 | 0.560578 | \n",
      "+-----+----------+----------+----------+\n",
      "| 13  | 0.191022 | 0.539388 | 0.181005 | \n",
      "+-----+----------+----------+----------+\n",
      "| 14  | 0.654003 | 0.551854 | 0.696217 | \n",
      "+-----+----------+----------+----------+\n",
      "| 15  | 0.254573 | 0.867037 | 0.921281 | \n",
      "+-----+----------+----------+----------+\n",
      "| 16  | 0.494585 | 0.333555 | 0.185841 | \n",
      "+-----+----------+----------+----------+\n",
      "| 17  | 0.199335 | 0.120891 | 0.756896 | \n",
      "+-----+----------+----------+----------+\n",
      "| 18  | 0.239242 | 0.027296 | 0.791188 | \n",
      "+-----+----------+----------+----------+\n",
      "| 19  | 0.477578 | 0.173491 | 0.893384 | \n",
      "+-----+----------+----------+----------+\n",
      "| 20  | 0.457846 | 0.212717 | 0.186276 | \n",
      "+-----+----------+----------+----------+\n",
      "| 21  | 0.275295 | 0.246619 | 0.389832 | \n",
      "+-----+----------+----------+----------+\n",
      "| 22  | 0.999705 | 0.423554 | 0.988171 | \n",
      "+-----+----------+----------+----------+\n",
      "| 23  | 0.438110 | 0.265612 | 0.746920 | \n",
      "+-----+----------+----------+----------+\n",
      "| 24  | 0.677826 | 0.609945 | 0.637252 | \n",
      "+-----+----------+----------+----------+\n",
      "| 25  | 0.018127 | 0.314728 | 0.996371 | \n",
      "+-----+----------+----------+----------+\n",
      "| 26  | 0.830419 | 0.387702 | 0.823632 | \n",
      "+-----+----------+----------+----------+\n",
      "| 27  | 0.955739 | 0.005688 | 0.646965 | \n",
      "+-----+----------+----------+----------+\n",
      "| 28  | 0.950738 | 0.023214 | 0.491662 | \n",
      "+-----+----------+----------+----------+\n",
      "| 29  | 0.438231 | 0.585133 | 0.917138 | \n",
      "+-----+----------+----------+----------+\n",
      "| 30  | 0.049923 | 0.938210 | 0.746939 | \n",
      "+-----+----------+----------+----------+\n",
      "| 31  | 0.625354 | 0.309429 | 0.156560 | \n",
      "+-----+----------+----------+----------+\n",
      "| 32  | 0.544117 | 0.770380 | 0.165058 | \n",
      "+-----+----------+----------+----------+\n",
      "| 33  | 0.349819 | 0.093542 | 0.950809 | \n",
      "+-----+----------+----------+----------+\n",
      "| 34  | 0.621165 | 0.769815 | 0.336080 | \n",
      "+-----+----------+----------+----------+\n",
      "| 35  | 0.825808 | 0.245813 | 0.809016 | \n",
      "+-----+----------+----------+----------+\n",
      "| 36  | 0.378010 | 0.184884 | 0.918832 | \n",
      "+-----+----------+----------+----------+\n",
      "| 37  | 0.285735 | 0.647887 | 0.954772 | \n",
      "+-----+----------+----------+----------+\n",
      "| 38  | 0.753567 | 0.026807 | 0.609066 | \n",
      "+-----+----------+----------+----------+\n",
      "| 39  | 0.132405 | 0.511444 | 0.709343 | \n",
      "+-----+----------+----------+----------+\n",
      "| 40  | 0.868212 | 0.772695 | 0.141381 | \n",
      "+-----+----------+----------+----------+\n",
      "| 41  | 0.223461 | 0.599074 | 0.178923 | \n",
      "+-----+----------+----------+----------+\n",
      "| 42  | 0.505626 | 0.243327 | 0.812939 | \n",
      "+-----+----------+----------+----------+\n",
      "| 43  | 0.153381 | 0.235056 | 0.441212 | \n",
      "+-----+----------+----------+----------+\n",
      "| 44  | 0.001132 | 0.508511 | 0.998477 | \n",
      "+-----+----------+----------+----------+\n",
      "| 45  | 0.948381 | 0.761270 | 0.954787 | \n",
      "+-----+----------+----------+----------+\n",
      "| 46  | 0.263758 | 0.004025 | 0.242648 | \n",
      "+-----+----------+----------+----------+\n",
      "| 47  | 0.363768 | 0.909981 | 0.500830 | \n",
      "+-----+----------+----------+----------+\n",
      "| 48  | 0.556088 | 0.888684 | 0.008939 | \n",
      "+-----+----------+----------+----------+\n",
      "| 49  | 0.701560 | 0.264608 | 0.879289 | \n",
      "+-----+----------+----------+----------+\n",
      "| 50  | 0.958034 | 0.669262 | 0.803905 | \n",
      "+-----+----------+----------+----------+\n",
      "| 51  | 0.937720 | 0.674253 | 0.693748 | \n",
      "+-----+----------+----------+----------+\n",
      "| 52  | 0.535994 | 0.775083 | 0.750406 | \n",
      "+-----+----------+----------+----------+\n",
      "| 53  | 0.959653 | 0.532994 | 0.094715 | \n",
      "+-----+----------+----------+----------+\n",
      "| 54  | 0.179193 | 0.195074 | 0.586823 | \n",
      "+-----+----------+----------+----------+\n",
      "| 55  | 0.620487 | 0.240240 | 0.354216 | \n",
      "+-----+----------+----------+----------+\n",
      "| 56  | 0.777805 | 0.388517 | 0.413845 | \n",
      "+-----+----------+----------+----------+\n",
      "| 57  | 0.493643 | 0.337799 | 0.659059 | \n",
      "+-----+----------+----------+----------+\n",
      "| 58  | 0.033063 | 0.665118 | 0.213698 | \n",
      "+-----+----------+----------+----------+\n",
      "| 59  | 0.605099 | 0.178360 | 0.743946 | \n",
      "+-----+----------+----------+----------+\n",
      "| 60  | 0.332544 | 0.720779 | 0.108224 | \n",
      "+-----+----------+----------+----------+\n",
      "| 61  | 0.911686 | 0.758466 | 0.133548 | \n",
      "+-----+----------+----------+----------+\n",
      "| 62  | 0.228581 | 0.427331 | 0.266035 | \n",
      "+-----+----------+----------+----------+\n",
      "| 63  | 0.837583 | 0.980110 | 0.127723 | \n",
      "+-----+----------+----------+----------+\n",
      "| 64  | 0.788354 | 0.951694 | 0.499792 | \n",
      "+-----+----------+----------+----------+\n",
      "| 65  | 0.710906 | 0.616063 | 0.886614 | \n",
      "+-----+----------+----------+----------+\n",
      "| 66  | 0.615554 | 0.069646 | 0.714304 | \n",
      "+-----+----------+----------+----------+\n",
      "| 67  | 0.949711 | 0.461370 | 0.502497 | \n",
      "+-----+----------+----------+----------+\n",
      "| 68  | 0.144001 | 0.980619 | 0.450181 | \n",
      "+-----+----------+----------+----------+\n",
      "| 69  | 0.974141 | 0.337454 | 0.161638 | \n",
      "+-----+----------+----------+----------+\n",
      "| 70  | 0.851921 | 0.985479 | 0.476474 | \n",
      "+-----+----------+----------+----------+\n",
      "| 71  | 0.503523 | 0.639004 | 0.913113 | \n",
      "+-----+----------+----------+----------+\n",
      "| 72  | 0.380027 | 0.108184 | 0.916293 | \n",
      "+-----+----------+----------+----------+\n",
      "| 73  | 0.283065 | 0.473267 | 0.608659 | \n",
      "+-----+----------+----------+----------+\n",
      "| 74  | 0.353841 | 0.952977 | 0.867541 | \n",
      "+-----+----------+----------+----------+\n",
      "| 75  | 0.091601 | 0.792676 | 0.126908 | \n",
      "+-----+----------+----------+----------+\n",
      "| 76  | 0.001084 | 0.811698 | 0.262204 | \n",
      "+-----+----------+----------+----------+\n",
      "| 77  | 0.470052 | 0.225757 | 0.155981 | \n",
      "+-----+----------+----------+----------+\n",
      "| 78  | 0.522286 | 0.746295 | 0.040422 | \n",
      "+-----+----------+----------+----------+\n",
      "| 79  | 0.912991 | 0.771314 | 0.353280 | \n",
      "+-----+----------+----------+----------+\n",
      "| 80  | 0.075400 | 0.379487 | 0.920900 | \n",
      "+-----+----------+----------+----------+\n",
      "| 81  | 0.944671 | 0.406451 | 0.256922 | \n",
      "+-----+----------+----------+----------+\n",
      "| 82  | 0.530512 | 0.225439 | 0.228459 | \n",
      "+-----+----------+----------+----------+\n",
      "| 83  | 0.923750 | 0.894262 | 0.126817 | \n",
      "+-----+----------+----------+----------+\n",
      "| 84  | 0.150077 | 0.657057 | 0.811704 | \n",
      "+-----+----------+----------+----------+\n",
      "| 85  | 0.609148 | 0.761863 | 0.280008 | \n",
      "+-----+----------+----------+----------+\n",
      "| 86  | 0.415183 | 0.956357 | 0.785713 | \n",
      "+-----+----------+----------+----------+\n",
      "| 87  | 0.633406 | 0.975164 | 0.787689 | \n",
      "+-----+----------+----------+----------+\n",
      "| 88  | 0.331988 | 0.083638 | 0.982470 | \n",
      "+-----+----------+----------+----------+\n",
      "| 89  | 0.047126 | 0.508428 | 0.771994 | \n",
      "+-----+----------+----------+----------+\n",
      "| 90  | 0.250397 | 0.975791 | 0.695821 | \n",
      "+-----+----------+----------+----------+\n",
      "| 91  | 0.476050 | 0.661130 | 0.064959 | \n",
      "+-----+----------+----------+----------+\n",
      "| 92  | 0.293589 | 0.344569 | 0.354656 | \n",
      "+-----+----------+----------+----------+\n",
      "| 93  | 0.631403 | 0.888614 | 0.042515 | \n",
      "+-----+----------+----------+----------+\n",
      "| 94  | 0.010356 | 0.052055 | 0.772224 | \n",
      "+-----+----------+----------+----------+\n",
      "| 95  | 0.414533 | 0.766804 | 0.886139 | \n",
      "+-----+----------+----------+----------+\n",
      "| 96  | 0.179448 | 0.259070 | 0.996205 | \n",
      "+-----+----------+----------+----------+\n",
      "| 97  | 0.248142 | 0.737466 | 0.553921 | \n",
      "+-----+----------+----------+----------+\n",
      "| 98  | 0.211196 | 0.369509 | 0.428273 | \n",
      "+-----+----------+----------+----------+\n",
      "| 99  | 0.379201 | 0.108458 | 0.610401 | \n",
      "+-----+----------+----------+----------+\n"
     ]
    }
   ],
   "source": [
    "df.Display(df.GetColumnNames(), df.Count().GetValue()).Print()"
   ]
  },
  {
   "cell_type": "markdown",
   "id": "ff3f210e",
   "metadata": {},
   "source": [
    "## Working with `pandas` dataframe\n",
    "\n",
    "As a convenience, RDataFrame can also ingest data from a [`pandas`](https://pandas.pydata.org/) dataframe."
   ]
  },
  {
   "cell_type": "code",
   "execution_count": 7,
   "id": "dc2ba6d0",
   "metadata": {},
   "outputs": [
    {
     "name": "stdout",
     "output_type": "stream",
     "text": [
      "+-----+---+---+---+\n",
      "| Row | x | y | z | \n",
      "+-----+---+---+---+\n",
      "| 0   | 1 | 4 | 5 | \n",
      "+-----+---+---+---+\n",
      "| 1   | 2 | 5 | 7 | \n",
      "+-----+---+---+---+\n",
      "| 2   | 3 | 6 | 9 | \n",
      "+-----+---+---+---+\n"
     ]
    }
   ],
   "source": [
    "import pandas as pd\n",
    "\n",
    "# Let's create some data in a pandas dataframe\n",
    "pdf = pd.DataFrame({'x': [1, 2, 3], 'y': [4, 5, 6]})\n",
    "\n",
    "# Convert the Pandas DataFrame to RDataFrame\n",
    "# The column names are directly copied to the RDF \n",
    "# Please note that only fundamental types (int, float, ...) are supported and\n",
    "# the arrays must have the same length.\n",
    "df = ROOT.RDF.FromPandas(pdf)\n",
    "\n",
    "# You can now use the RDataFrame as usually, e.g. add a column ...\n",
    "df = df.Define('z', 'x + y')\n",
    "\n",
    "# ... or print the content\n",
    "df.Display().Print()"
   ]
  },
  {
   "cell_type": "markdown",
   "id": "1238b943",
   "metadata": {
    "slideshow": {
     "slide_type": "slide"
    }
   },
   "source": [
    "## Working with `awkward` arrays\n",
    "\n",
    "Utility functions are available for interoperability with the `awkward` library, described at https://awkward-array.org/doc/main/user-guide/how-to-convert-rdataframe.html.\n",
    "\n",
    "The function for RDataFrame to Awkward conversion is ak.from_rdataframe(). The argument to this function accepts a tuple of strings that are the RDataFrame column names. By default this function returns ak.Array type."
   ]
  },
  {
   "cell_type": "code",
   "execution_count": null,
   "id": "9b7cb279",
   "metadata": {
    "slideshow": {
     "slide_type": "subslide"
    }
   },
   "outputs": [],
   "source": [
    "import awkward as ak\n",
    "\n",
    "treename = \"myDataset\"\n",
    "filename = \"../../data/collections_dataset.root\"\n",
    "df = ROOT.RDataFrame(treename, filename)\n",
    "\n",
    "array = ak.from_rdataframe(\n",
    "    df,\n",
    "    columns=(\"E\", \"nPart\", \"px\", \"py\")\n",
    ")\n",
    "\n",
    "array"
   ]
  },
  {
   "cell_type": "markdown",
   "id": "579907a0",
   "metadata": {
    "slideshow": {
     "slide_type": "subslide"
    }
   },
   "source": [
    "The function for Awkward to RDataFrame conversion is ak.to_rdataframe().\n",
    "\n",
    "The argument to this function requires a dictionary: { `<column name string>` : `<awkward array>` }. This function always returns an RDataFrame object.\n",
    "\n",
    "The arrays given for each column have to be equal length:"
   ]
  },
  {
   "cell_type": "code",
   "execution_count": null,
   "id": "55ef9ba9",
   "metadata": {
    "slideshow": {
     "slide_type": "subslide"
    }
   },
   "outputs": [],
   "source": [
    "array_x = ak.Array(\n",
    "    [\n",
    "        {\"x\": [1.1, 1.2, 1.3]},\n",
    "        {\"x\": [2.1, 2.2]},\n",
    "        {\"x\": [3.1]},\n",
    "        {\"x\": [4.1, 4.2, 4.3, 4.4]},\n",
    "        {\"x\": [5.1]},\n",
    "    ]\n",
    ")\n",
    "array_y = ak.Array([1, 2, 3, 4, 5])\n",
    "array_z = ak.Array([[1.1], [2.1, 2.3, 2.4], [3.1], [4.1, 4.2, 4.3], [5.1]])\n",
    "\n",
    "assert len(array_x) == len(array_y) == len(array_z)\n",
    "\n",
    "df = ak.to_rdataframe({\"x\": array_x, \"y\": array_y, \"z\": array_z})\n",
    "\n",
    "print(f\"Columns and their types: {({str(col): df.GetColumnType(col) for col in df.GetColumnNames()})}\")\n",
    "df.Display([\"x\",\"y\",\"z\"]).Print()"
   ]
  },
  {
   "cell_type": "code",
   "execution_count": null,
   "id": "09a07c73-175b-43ab-b34d-e799a5bfb23d",
   "metadata": {},
   "outputs": [],
   "source": []
  }
 ],
 "metadata": {
  "celltoolbar": "Slideshow",
  "kernelspec": {
   "display_name": "Singularity kernel - Base ROOT 6.32.02 + CMSJMECalculator 0.2.0 + Correctionlib 2.6.1",
   "language": "python",
   "name": "singularity-kernel-root"
  },
  "language_info": {
   "codemirror_mode": {
    "name": "ipython",
    "version": 3
   },
   "file_extension": ".py",
   "mimetype": "text/x-python",
   "name": "python",
   "nbconvert_exporter": "python",
   "pygments_lexer": "ipython3",
   "version": "3.11.10"
  }
 },
 "nbformat": 4,
 "nbformat_minor": 5
}
