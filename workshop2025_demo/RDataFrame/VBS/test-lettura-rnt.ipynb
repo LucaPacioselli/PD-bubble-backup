{
 "cells": [
  {
   "cell_type": "code",
   "execution_count": 2,
   "id": "179859e9-1756-4b5c-8c66-402b1b985cfd",
   "metadata": {},
   "outputs": [
    {
     "ename": "invalid_argument",
     "evalue": "TInterpreter::EErrorCode ProcessLineWrapper(const char* line) =>\n    invalid_argument: RDataFrame: unsupported data format for dataset \"Events\" in file \"/opt/workspace/persistent-storage/work/workshop2025_demo/RDataFrame/VBS/rnt936C5557-15D6-B74C-9260-582B71C8B1C3.root\".",
     "output_type": "error",
     "traceback": [
      "\u001b[31m---------------------------------------------------------------------------\u001b[39m",
      "\u001b[31minvalid_argument\u001b[39m                          Traceback (most recent call last)",
      "\u001b[36mCell\u001b[39m\u001b[36m \u001b[39m\u001b[32mIn[2]\u001b[39m\u001b[32m, line 1\u001b[39m\n\u001b[32m----> \u001b[39m\u001b[32m1\u001b[39m \u001b[43mget_ipython\u001b[49m\u001b[43m(\u001b[49m\u001b[43m)\u001b[49m\u001b[43m.\u001b[49m\u001b[43mrun_cell_magic\u001b[49m\u001b[43m(\u001b[49m\u001b[33;43m'\u001b[39;49m\u001b[33;43mcpp\u001b[39;49m\u001b[33;43m'\u001b[39;49m\u001b[43m,\u001b[49m\u001b[43m \u001b[49m\u001b[33;43m'\u001b[39;49m\u001b[33;43m'\u001b[39;49m\u001b[43m,\u001b[49m\u001b[43m \u001b[49m\u001b[33;43m'\u001b[39;49m\u001b[38;5;130;43;01m\\n\u001b[39;49;00m\u001b[33;43m#include \u001b[39;49m\u001b[33;43m\"\u001b[39;49m\u001b[33;43mutils_test_lettura.h\u001b[39;49m\u001b[33;43m\"\u001b[39;49m\u001b[38;5;130;43;01m\\n\u001b[39;49;00m\u001b[33;43m#include <ROOT/RNTupleReader.hxx>\u001b[39;49m\u001b[38;5;130;43;01m\\n\u001b[39;49;00m\u001b[33;43m#include <ROOT/RDF/RSampleInfo.hxx>\u001b[39;49m\u001b[38;5;130;43;01m\\n\u001b[39;49;00m\u001b[33;43musing ROOT::Experimental::ENTupleInfo;\u001b[39;49m\u001b[38;5;130;43;01m\\n\u001b[39;49;00m\u001b[33;43musing ROOT::Experimental::RNTupleReader;\u001b[39;49m\u001b[38;5;130;43;01m\\n\u001b[39;49;00m\u001b[33;43m#include <iostream>\u001b[39;49m\u001b[38;5;130;43;01m\\n\u001b[39;49;00m\u001b[33;43mgROOT->ProcessLine(\u001b[39;49m\u001b[33;43m\"\u001b[39;49m\u001b[33;43mgErrorIgnoreLevel = kInfo; gSystem->Setenv(\u001b[39;49m\u001b[38;5;130;43;01m\\\\\u001b[39;49;00m\u001b[33;43m\"\u001b[39;49m\u001b[33;43mROOT_LOGGER_LEVEL\u001b[39;49m\u001b[38;5;130;43;01m\\\\\u001b[39;49;00m\u001b[33;43m\"\u001b[39;49m\u001b[33;43m, \u001b[39;49m\u001b[38;5;130;43;01m\\\\\u001b[39;49;00m\u001b[33;43m\"\u001b[39;49m\u001b[33;43mDEBUG\u001b[39;49m\u001b[38;5;130;43;01m\\\\\u001b[39;49;00m\u001b[33;43m\"\u001b[39;49m\u001b[33;43m);\u001b[39;49m\u001b[33;43m\"\u001b[39;49m\u001b[33;43m);\u001b[39;49m\u001b[38;5;130;43;01m\\n\u001b[39;49;00m\u001b[38;5;130;43;01m\\n\u001b[39;49;00m\u001b[33;43mROOT::RDataFrame rdf(\u001b[39;49m\u001b[33;43m\"\u001b[39;49m\u001b[33;43mEvents\u001b[39;49m\u001b[33;43m\"\u001b[39;49m\u001b[33;43m, \u001b[39;49m\u001b[33;43m\"\u001b[39;49m\u001b[33;43m/opt/workspace/persistent-storage/work/workshop2025_demo/RDataFrame/VBS/rnt936C5557-15D6-B74C-9260-582B71C8B1C3.root\u001b[39;49m\u001b[33;43m\"\u001b[39;49m\u001b[33;43m);\u001b[39;49m\u001b[38;5;130;43;01m\\n\u001b[39;49;00m\u001b[38;5;130;43;01m\\n\u001b[39;49;00m\u001b[33;43m//auto ntuple = TFile::Open(\u001b[39;49m\u001b[33;43m\"\u001b[39;49m\u001b[33;43m/opt/workspace/persistent-storage/work/workshop2025_demo/RDataFrame/VBS/B7B5C9BA-955A-104B-BA9C-D9A48B24AE2F.root\u001b[39;49m\u001b[33;43m\"\u001b[39;49m\u001b[33;43m);\u001b[39;49m\u001b[38;5;130;43;01m\\n\u001b[39;49;00m\u001b[33;43m//ntuple->ls();\u001b[39;49m\u001b[38;5;130;43;01m\\n\u001b[39;49;00m\u001b[38;5;130;43;01m\\n\u001b[39;49;00m\u001b[33;43m//auto ntuple = TFile::Open(\u001b[39;49m\u001b[33;43m\"\u001b[39;49m\u001b[33;43m/opt/workspace/persistent-storage/work/workshop2025_demo/RDataFrame/VBS/rnt936C5557-15D6-B74C-9260-582B71C8B1C3.root\u001b[39;49m\u001b[33;43m\"\u001b[39;49m\u001b[33;43m);\u001b[39;49m\u001b[38;5;130;43;01m\\n\u001b[39;49;00m\u001b[33;43m//ntuple->ls();\u001b[39;49m\u001b[38;5;130;43;01m\\n\u001b[39;49;00m\u001b[38;5;130;43;01m\\n\u001b[39;49;00m\u001b[38;5;130;43;01m\\n\u001b[39;49;00m\u001b[33;43mstd::cout << rdf.Count().GetValue() << std::endl\u001b[39;49m\u001b[38;5;130;43;01m\\n\u001b[39;49;00m\u001b[38;5;130;43;01m\\n\u001b[39;49;00m\u001b[33;43m/*\u001b[39;49m\u001b[38;5;130;43;01m\\n\u001b[39;49;00m\u001b[33;43mauto rdf_year = rdf.DefinePerSample(\u001b[39;49m\u001b[33;43m\"\u001b[39;49m\u001b[33;43mName\u001b[39;49m\u001b[33;43m\"\u001b[39;49m\u001b[33;43m, [](unsigned int rdfslot_, const ROOT::RDF::RSampleInfo rdfsampleinfo_) \u001b[39;49m\u001b[33;43m{\u001b[39;49m\u001b[33;43m //[](unsigned int slot, const ROOT::RDF::RSampleInfo &id) \u001b[39;49m\u001b[33;43m{\u001b[39;49m\u001b[38;5;130;43;01m\\n\u001b[39;49;00m\u001b[33;43m    //cout << id.AsString();\u001b[39;49m\u001b[38;5;130;43;01m\\n\u001b[39;49;00m\u001b[33;43m    return rdfsampleinfo_.AsString(); //Contains(\u001b[39;49m\u001b[33;43m\"\u001b[39;49m\u001b[33;43mZGToLLG\u001b[39;49m\u001b[33;43m\"\u001b[39;49m\u001b[33;43m); //? 1.0f : 2.0f; \u001b[39;49m\u001b[38;5;130;43;01m\\n\u001b[39;49;00m\u001b[33;43m});\u001b[39;49m\u001b[38;5;130;43;01m\\n\u001b[39;49;00m\u001b[38;5;130;43;01m\\n\u001b[39;49;00m\u001b[33;43m// Now you can perform actions on the new DataFrame\u001b[39;49m\u001b[38;5;130;43;01m\\n\u001b[39;49;00m\u001b[33;43mrdf_year.Display(\u001b[39;49m\u001b[33;43m\"\u001b[39;49m\u001b[33;43mName\u001b[39;49m\u001b[33;43m\"\u001b[39;49m\u001b[33;43m)->Print();\u001b[39;49m\u001b[38;5;130;43;01m\\n\u001b[39;49;00m\u001b[33;43m*/\u001b[39;49m\u001b[38;5;130;43;01m\\n\u001b[39;49;00m\u001b[33;43m'\u001b[39;49m\u001b[43m)\u001b[49m\n",
      "\u001b[36mFile \u001b[39m\u001b[32m/opt/conda/lib/python3.11/site-packages/IPython/core/interactiveshell.py:2542\u001b[39m, in \u001b[36mInteractiveShell.run_cell_magic\u001b[39m\u001b[34m(self, magic_name, line, cell)\u001b[39m\n\u001b[32m   2540\u001b[39m \u001b[38;5;28;01mwith\u001b[39;00m \u001b[38;5;28mself\u001b[39m.builtin_trap:\n\u001b[32m   2541\u001b[39m     args = (magic_arg_s, cell)\n\u001b[32m-> \u001b[39m\u001b[32m2542\u001b[39m     result = \u001b[43mfn\u001b[49m\u001b[43m(\u001b[49m\u001b[43m*\u001b[49m\u001b[43margs\u001b[49m\u001b[43m,\u001b[49m\u001b[43m \u001b[49m\u001b[43m*\u001b[49m\u001b[43m*\u001b[49m\u001b[43mkwargs\u001b[49m\u001b[43m)\u001b[49m\n\u001b[32m   2544\u001b[39m \u001b[38;5;66;03m# The code below prevents the output from being displayed\u001b[39;00m\n\u001b[32m   2545\u001b[39m \u001b[38;5;66;03m# when using magics with decorator @output_can_be_silenced\u001b[39;00m\n\u001b[32m   2546\u001b[39m \u001b[38;5;66;03m# when the last Python token in the expression is a ';'.\u001b[39;00m\n\u001b[32m   2547\u001b[39m \u001b[38;5;28;01mif\u001b[39;00m \u001b[38;5;28mgetattr\u001b[39m(fn, magic.MAGIC_OUTPUT_CAN_BE_SILENCED, \u001b[38;5;28;01mFalse\u001b[39;00m):\n",
      "\u001b[36mFile \u001b[39m\u001b[32m/usr/local/lib/root/JupyROOT/magics/cppmagic.py:33\u001b[39m, in \u001b[36mCppMagics.cpp\u001b[39m\u001b[34m(self, line, cell)\u001b[39m\n\u001b[32m     31\u001b[39m     utils.declareCppCode(cell)\n\u001b[32m     32\u001b[39m \u001b[38;5;28;01melse\u001b[39;00m:\n\u001b[32m---> \u001b[39m\u001b[32m33\u001b[39m     \u001b[43mutils\u001b[49m\u001b[43m.\u001b[49m\u001b[43mprocessMagicCppCode\u001b[49m\u001b[43m(\u001b[49m\u001b[43mcell\u001b[49m\u001b[43m)\u001b[49m\n",
      "\u001b[36mFile \u001b[39m\u001b[32m/usr/local/lib/root/JupyROOT/helpers/utils.py:225\u001b[39m, in \u001b[36mprocessMagicCppCode\u001b[39m\u001b[34m(code)\u001b[39m\n\u001b[32m    224\u001b[39m \u001b[38;5;28;01mdef\u001b[39;00m\u001b[38;5;250m \u001b[39m\u001b[34mprocessMagicCppCode\u001b[39m(code):\n\u001b[32m--> \u001b[39m\u001b[32m225\u001b[39m     \u001b[43mprocessMagicCppCodeImpl\u001b[49m\u001b[43m(\u001b[49m\u001b[43mcode\u001b[49m\u001b[43m)\u001b[49m\n",
      "\u001b[36mFile \u001b[39m\u001b[32m/usr/local/lib/root/JupyROOT/helpers/utils.py:212\u001b[39m, in \u001b[36mprocessMagicCppCodeImpl\u001b[39m\u001b[34m(code)\u001b[39m\n\u001b[32m    211\u001b[39m \u001b[38;5;28;01mdef\u001b[39;00m\u001b[38;5;250m \u001b[39m\u001b[34mprocessMagicCppCodeImpl\u001b[39m(code):\n\u001b[32m--> \u001b[39m\u001b[32m212\u001b[39m     err = \u001b[43mROOT\u001b[49m\u001b[43m.\u001b[49m\u001b[43mProcessLineWrapper\u001b[49m\u001b[43m(\u001b[49m\u001b[43mcode\u001b[49m\u001b[43m)\u001b[49m\n\u001b[32m    213\u001b[39m     \u001b[38;5;28;01mif\u001b[39;00m err == ROOT.TInterpreter.kProcessing:\n\u001b[32m    214\u001b[39m         ROOT.gInterpreter.ProcessLine(\u001b[33m'\u001b[39m\u001b[33m.@\u001b[39m\u001b[33m'\u001b[39m)\n",
      "\u001b[31minvalid_argument\u001b[39m: TInterpreter::EErrorCode ProcessLineWrapper(const char* line) =>\n    invalid_argument: RDataFrame: unsupported data format for dataset \"Events\" in file \"/opt/workspace/persistent-storage/work/workshop2025_demo/RDataFrame/VBS/rnt936C5557-15D6-B74C-9260-582B71C8B1C3.root\"."
     ]
    },
    {
     "name": "stderr",
     "output_type": "stream",
     "text": [
      "Error in <TKey::ReadObjectAny>: Unknown class ROOT::Experimental::RNTuple\n",
      "Error in <TKey::ReadObjectAny>: Unknown class ROOT::Experimental::RNTuple\n"
     ]
    }
   ],
   "source": [
    "%%cpp\n",
    "\n",
    "#include \"utils_test_lettura.h\"\n",
    "#include <ROOT/RNTupleReader.hxx>\n",
    "#include <ROOT/RDF/RSampleInfo.hxx>\n",
    "using ROOT::Experimental::ENTupleInfo;\n",
    "using ROOT::Experimental::RNTupleReader;\n",
    "#include <iostream>\n",
    "gROOT->ProcessLine(\"gErrorIgnoreLevel = kInfo; gSystem->Setenv(\\\"ROOT_LOGGER_LEVEL\\\", \\\"DEBUG\\\");\");\n",
    "\n",
    "ROOT::RDataFrame rdf(\"Events\", \"/opt/workspace/persistent-storage/work/workshop2025_demo/RDataFrame/VBS/rnt936C5557-15D6-B74C-9260-582B71C8B1C3.root\");\n",
    "\n",
    "//auto ntuple = TFile::Open(\"/opt/workspace/persistent-storage/work/workshop2025_demo/RDataFrame/VBS/B7B5C9BA-955A-104B-BA9C-D9A48B24AE2F.root\");\n",
    "//ntuple->ls();\n",
    "\n",
    "//auto ntuple = TFile::Open(\"/opt/workspace/persistent-storage/work/workshop2025_demo/RDataFrame/VBS/rnt936C5557-15D6-B74C-9260-582B71C8B1C3.root\");\n",
    "//ntuple->ls();\n",
    "\n",
    "\n",
    "std::cout << rdf.Count().GetValue() << std::endl\n",
    "\n",
    "/*\n",
    "auto rdf_year = rdf.DefinePerSample(\"Name\", [](unsigned int rdfslot_, const ROOT::RDF::RSampleInfo rdfsampleinfo_) { //[](unsigned int slot, const ROOT::RDF::RSampleInfo &id) {\n",
    "    //cout << id.AsString();\n",
    "    return rdfsampleinfo_.AsString(); //Contains(\"ZGToLLG\"); //? 1.0f : 2.0f; \n",
    "});\n",
    "\n",
    "// Now you can perform actions on the new DataFrame\n",
    "rdf_year.Display(\"Name\")->Print();\n",
    "*/"
   ]
  },
  {
   "cell_type": "code",
   "execution_count": 2,
   "id": "39b82868-1018-401f-9357-adf6eac697d5",
   "metadata": {},
   "outputs": [
    {
     "name": "stdout",
     "output_type": "stream",
     "text": [
      "21142\n",
      "(std::basic_ostream<char, std::char_traits<char> >::__ostream_type &) @0x7f007189ed20\n"
     ]
    }
   ],
   "source": [
    "%%cpp\n",
    "\n",
    "#include \"utils_test_lettura.h\"\n",
    "#include <ROOT/RNTupleReader.hxx>\n",
    "#include <ROOT/RDF/RSampleInfo.hxx>\n",
    "using ROOT::Experimental::ENTupleInfo;\n",
    "using ROOT::Experimental::RNTupleReader;\n",
    "#include <iostream>\n",
    "gROOT->ProcessLine(\"gErrorIgnoreLevel = kInfo; gSystem->Setenv(\\\"ROOT_LOGGER_LEVEL\\\", \\\"DEBUG\\\");\");\n",
    "\n",
    "ROOT::RDataFrame rdf(\"Events\", \"/opt/workspace/persistent-storage/work/workshop2025_demo/RDataFrame/VBS/rntAF4D5462-30E8-EA43-AA8A-A1EADA9796BC.root\");\n",
    "\n",
    "//auto ntuple = TFile::Open(\"/opt/workspace/persistent-storage/work/workshop2025_demo/RDataFrame/VBS/B7B5C9BA-955A-104B-BA9C-D9A48B24AE2F.root\");\n",
    "//ntuple->ls();\n",
    "\n",
    "//auto ntuple = TFile::Open(\"/opt/workspace/persistent-storage/work/workshop2025_demo/RDataFrame/VBS/rntAF4D5462-30E8-EA43-AA8A-A1EADA9796BC.root\");\n",
    "//ntuple->ls();\n",
    "\n",
    "\n",
    "std::cout << rdf.Count().GetValue() << std::endl\n",
    "\n",
    "/*\n",
    "auto rdf_year = rdf.DefinePerSample(\"Name\", [](unsigned int rdfslot_, const ROOT::RDF::RSampleInfo rdfsampleinfo_) { //[](unsigned int slot, const ROOT::RDF::RSampleInfo &id) {\n",
    "    //cout << id.AsString();\n",
    "    return rdfsampleinfo_.AsString(); //Contains(\"ZGToLLG\"); //? 1.0f : 2.0f; \n",
    "});\n",
    "\n",
    "// Now you can perform actions on the new DataFrame\n",
    "rdf_year.Display(\"Name\")->Print();\n",
    "*/"
   ]
  },
  {
   "cell_type": "code",
   "execution_count": 1,
   "id": "55fa3d5f-2caf-47f0-bb08-2af1551ce1f1",
   "metadata": {},
   "outputs": [],
   "source": [
    "import ROOT\n",
    "from ROOT import TFile"
   ]
  },
  {
   "cell_type": "code",
   "execution_count": 2,
   "id": "cd2ef15d-0a23-4ed5-9011-e29cce0f9d08",
   "metadata": {},
   "outputs": [
    {
     "name": "stdout",
     "output_type": "stream",
     "text": [
      "4000\n",
      "(std::basic_ostream<char, std::char_traits<char> >::__ostream_type &) @0x7f104d819d20\n"
     ]
    }
   ],
   "source": [
    "%%cpp\n",
    "\n",
    "#include \"utils_test_lettura.h\"\n",
    "#include <ROOT/RNTupleReader.hxx>\n",
    "#include <ROOT/RDF/RSampleInfo.hxx>\n",
    "using ROOT::Experimental::ENTupleInfo;\n",
    "using ROOT::Experimental::RNTupleReader;\n",
    "#include <iostream>\n",
    "gROOT->ProcessLine(\"gErrorIgnoreLevel = kInfo; gSystem->Setenv(\\\"ROOT_LOGGER_LEVEL\\\", \\\"DEBUG\\\");\");\n",
    "\n",
    "ROOT::RDataFrame rdf(\"Events\", \"/opt/workspace/persistent-storage/work/workshop2025_demo/RDataFrame/VBS/rntABA8AAB6-89A8-2A4D-B574-82CB4162656E.root\");\n",
    "\n",
    "//auto ntuple = TFile::Open(\"/opt/workspace/persistent-storage/work/workshop2025_demo/RDataFrame/VBS/B7B5C9BA-955A-104B-BA9C-D9A48B24AE2F.root\");\n",
    "//ntuple->ls();\n",
    "\n",
    "//auto ntuple = TFile::Open(\"/opt/workspace/persistent-storage/work/workshop2025_demo/RDataFrame/VBS/rntABA8AAB6-89A8-2A4D-B574-82CB4162656E.root\");\n",
    "//ntuple->ls();\n",
    "\n",
    "\n",
    "std::cout << rdf.Count().GetValue() << std::endl\n",
    "\n",
    "/*\n",
    "auto rdf_year = rdf.DefinePerSample(\"Name\", [](unsigned int rdfslot_, const ROOT::RDF::RSampleInfo rdfsampleinfo_) { //[](unsigned int slot, const ROOT::RDF::RSampleInfo &id) {\n",
    "    //cout << id.AsString();\n",
    "    return rdfsampleinfo_.AsString(); //Contains(\"ZGToLLG\"); //? 1.0f : 2.0f; \n",
    "});\n",
    "\n",
    "// Now you can perform actions on the new DataFrame\n",
    "rdf_year.Display(\"Name\")->Print();\n",
    "*/"
   ]
  },
  {
   "cell_type": "code",
   "execution_count": 4,
   "id": "60b50076-6bcd-4dd0-b7cc-fdb584cadd75",
   "metadata": {
    "scrolled": true
   },
   "outputs": [
    {
     "name": "stderr",
     "output_type": "stream",
     "text": [
      "Unbalanced braces. This cell was not processed.\n"
     ]
    }
   ],
   "source": [
    "%%cpp\n",
    "\n",
    "#ifndef PRE_H\n",
    "#define PRE_H\n",
    "\n",
    "#include \"ROOT/RDataFrame.hxx\"\n",
    "#include \"ROOT/RVec.hxx\"\n",
    "#include \"TCanvas.h\"\n",
    "#include \"TH1D.h\"\n",
    "#include \"TFile.h\"\n",
    "#include \"TH2D.h\"\n",
    "#include \"TH2F.h\"\n",
    "#include \"TLatex.h\"\n",
    "#include \"Math/Vector4D.h\"\n",
    "#include \"TStyle.h\"\n",
    "#include <map>\n",
    "#include <iostream>\n",
    "#include <iomanip>\n",
    "#include <vector>\n",
    "#include <algorithm>\n",
    "#include <TH1.h>\n",
    "#include <TH2.h>\n",
    "#include <TH2F.h>\n",
    "#include <cmath>\n",
    "//#include <curl/curl.h>\n",
    "#include <stdio.h>\n",
    "\n",
    "#include \"TDavixFile.h\"\n",
    "\n",
    "using namespace ROOT::VecOps;\n",
    "using RNode = ROOT::RDF::RNode;\n",
    "using rvec_f = const RVec<float> &;\n",
    "using rvec_i = const RVec<int> &;\n",
    "using rvec_b = const RVec<bool> &;\n",
    "#include <ROOT/RNTupleReader.hxx>\n",
    "using ROOT::Experimental::RNTupleInfo;\n",
    "using ROOT::Experimental::RNTupleReader;\n",
    " \n",
    "#include <iostream>\n",
    "\n",
    "string GetYear(unsigned int slot, const ROOT::RDF::RSampleInfo &id){\n",
    "    string year=\"2017\";\n",
    "    if (id.Contains(\"RunIISummer16NanoAODv7\")){\n",
    "        year = \"2016\";\n",
    "    } else if (id.Contains(\"RunIIFall17NanoAODv7\")){\n",
    "        year = \"2017\";\n",
    "    } else if (id.Contains(\"RunIIAutumn18NanoAODv7\")){\n",
    "        year = \"2018\";\n",
    "    }\n",
    "    return year;\n",
    "}\n",
    "\n",
    "// reading the rntuple with RDF: works\n",
    "ROOT::RDataFrame rdf(\"Events\", \"/scratch/cms/store/mcrnt/RunIISummer20UL17NanoAODv9/ZGToLLG_01J_5f_TuneCP5_13TeV-amcatnloFXFX-pythia8/NANOAODSIM/106X_mc2017_realistic_v9-v1/70000/AF4D5462-30E8-EA43-AA8A-A1EADA9796BC.root\");\n",
    "// auto d1 = rdf.Display(\"\");\n",
    "// d1->Print();\n",
    "\n",
    "// auto columnNames = rdf.GetColumnNames();\n",
    "\n",
    "//std::cout << \"Column names in the RDataFrame: \" << std::endl;\n",
    "//for (const auto& columnName : columnNames) {\n",
    "//    std::cout << columnName << std::endl;\n",
    "//}\n",
    "\n",
    "auto rdf_year = rdf.DefinePerSample(\"Year\", [](unsigned int slot, const ROOT::RDF::RSampleInfo &id) {\n",
    "    return GetYear(slot, id); // Use your custom function\n",
    "}, {\"rdfslot_\", \"rdfsampleinfo_\"});\n",
    "\n",
    "//auto rdf_year = rdf.DefinePerSample(\"Year\", \"GetYear(rdfslot_, rdfsampleinfo_)\");rdf_year.Display()->Print();\n",
    "\n",
    "// reading without RDF: works\n",
    "// auto ntuple = RNTupleReader::Open(\"Events\", \"/scratch/cms/store/mcrnt/RunIISummer20UL17NanoAODv9/ZGToLLG_01J_5f_TuneCP5_13TeV-amcatnloFXFX-pythia8/NANOAODSIM/106X_mc2017_realistic_v9-v1/70000/AF4D5462-30E8-EA43-AA8A-A1EADA9796BC.root\");\n",
    "// ntuple->PrintInfo();"
   ]
  },
  {
   "cell_type": "code",
   "execution_count": 4,
   "id": "f4e941ea-36d8-4516-88d3-dd00582d1c46",
   "metadata": {},
   "outputs": [
    {
     "name": "stdout",
     "output_type": "stream",
     "text": [
      "+-----+----------------------------------------------------------------------------------------------------------------------------------------------------------------------------------------------------+\n",
      "| Row | Name                                                                                                                                                                                               | \n",
      "+-----+----------------------------------------------------------------------------------------------------------------------------------------------------------------------------------------------------+\n",
      "| 0   | \"/scratch/cms/store/mc/RunIISummer20UL17NanoAODv9/ZGToLLG_01J_5f_TuneCP5_13TeV-amcatnloFXFX-pythia8/NANOAODSIM/106X_mc2017_realistic_v9-v1/70000/AF4D5462-30E8-EA43-AA8A-A1EADA9796BC.root/Events\" | \n",
      "+-----+----------------------------------------------------------------------------------------------------------------------------------------------------------------------------------------------------+\n",
      "| 1   | \"/scratch/cms/store/mc/RunIISummer20UL17NanoAODv9/ZGToLLG_01J_5f_TuneCP5_13TeV-amcatnloFXFX-pythia8/NANOAODSIM/106X_mc2017_realistic_v9-v1/70000/AF4D5462-30E8-EA43-AA8A-A1EADA9796BC.root/Events\" | \n",
      "+-----+----------------------------------------------------------------------------------------------------------------------------------------------------------------------------------------------------+\n",
      "| 2   | \"/scratch/cms/store/mc/RunIISummer20UL17NanoAODv9/ZGToLLG_01J_5f_TuneCP5_13TeV-amcatnloFXFX-pythia8/NANOAODSIM/106X_mc2017_realistic_v9-v1/70000/AF4D5462-30E8-EA43-AA8A-A1EADA9796BC.root/Events\" | \n",
      "+-----+----------------------------------------------------------------------------------------------------------------------------------------------------------------------------------------------------+\n",
      "| 3   | \"/scratch/cms/store/mc/RunIISummer20UL17NanoAODv9/ZGToLLG_01J_5f_TuneCP5_13TeV-amcatnloFXFX-pythia8/NANOAODSIM/106X_mc2017_realistic_v9-v1/70000/AF4D5462-30E8-EA43-AA8A-A1EADA9796BC.root/Events\" | \n",
      "+-----+----------------------------------------------------------------------------------------------------------------------------------------------------------------------------------------------------+\n",
      "| 4   | \"/scratch/cms/store/mc/RunIISummer20UL17NanoAODv9/ZGToLLG_01J_5f_TuneCP5_13TeV-amcatnloFXFX-pythia8/NANOAODSIM/106X_mc2017_realistic_v9-v1/70000/AF4D5462-30E8-EA43-AA8A-A1EADA9796BC.root/Events\" | \n",
      "+-----+----------------------------------------------------------------------------------------------------------------------------------------------------------------------------------------------------+\n"
     ]
    }
   ],
   "source": [
    "import ROOT\n",
    "\n",
    "# reading the rntuple with RDF: works\n",
    "df = ROOT.RDataFrame(\"Events\", \"/scratch/cms/store/mc/RunIISummer20UL17NanoAODv9/ZGToLLG_01J_5f_TuneCP5_13TeV-amcatnloFXFX-pythia8/NANOAODSIM/106X_mc2017_realistic_v9-v1/70000/AF4D5462-30E8-EA43-AA8A-A1EADA9796BC.root\")\n",
    "#print(df.Count().GetValue())\n",
    "\n",
    "\n",
    "df_path = df.DefinePerSample(\"Name\",\"rdfsampleinfo_.AsString()\")\n",
    "df_path.Display(\"Name\").Print()\n",
    "\n",
    "# reading without RDF: works\n",
    "# ntuple = ROOT.Experimental.RNTupleReader.Open(\"Events\", \"rntAF4D5462-30E8-EA43-AA8A-A1EADA9796BC.root\")\n",
    "# print(f\"RNTuple '{outputfile}' file has info:\\n {ntuple.PrintInfo()}\")"
   ]
  },
  {
   "cell_type": "code",
   "execution_count": 6,
   "id": "c635116d-9715-4f38-a1c5-c722ed6bc0c4",
   "metadata": {},
   "outputs": [
    {
     "name": "stdout",
     "output_type": "stream",
     "text": [
      "\n",
      "Attaching file /scratch/cms/store/mcrnt/RunIISummer20UL17NanoAODv9/ZGToLLG_01J_5f_TuneCP5_13TeV-amcatnloFXFX-pythia8/NANOAODSIM/106X_mc2017_realistic_v9-v1/70000/AF4D5462-30E8-EA43-AA8A-A1EADA9796BC.root as _file0...\n",
      "(TFile *) 0x563f68838dd0\n"
     ]
    },
    {
     "name": "stderr",
     "output_type": "stream",
     "text": [
      "input_line_29:2:3: error: use of undeclared identifier 'ls'\n",
      " (ls)\n",
      "  ^\n",
      "Error in <HandleInterpreterException>: Error evaluating expression (ls)\n",
      "Execution of your code was aborted.\n"
     ]
    }
   ],
   "source": [
    "%%bash\n",
    "\n",
    "root -l /scratch/cms/store/mcrnt/RunIISummer20UL17NanoAODv9/ZGToLLG_01J_5f_TuneCP5_13TeV-amcatnloFXFX-pythia8/NANOAODSIM/106X_mc2017_realistic_v9-v1/70000/AF4D5462-30E8-EA43-AA8A-A1EADA9796BC.root\n",
    "ls"
   ]
  },
  {
   "cell_type": "code",
   "execution_count": 9,
   "id": "703d690a-4622-4977-a2ed-0ef26fc6b36d",
   "metadata": {},
   "outputs": [],
   "source": [
    "import ROOT\n",
    "\n",
    "f = ROOT.TFile.Open(\"/scratch/cms/store/mcrnt/RunIISummer20UL17NanoAODv9/ZGToLLG_01J_5f_TuneCP5_13TeV-amcatnloFXFX-pythia8/NANOAODSIM/106X_mc2017_realistic_v9-v1/70000/AF4D5462-30E8-EA43-AA8A-A1EADA9796BC.root\")\n",
    "g = ROOT.TFile.Open(\"/opt/workspace/persistent-storage/work/workshop2025_demo/RDataFrame/VBS/B7B5C9BA-955A-104B-BA9C-D9A48B24AE2F.root\")"
   ]
  },
  {
   "cell_type": "code",
   "execution_count": 10,
   "id": "9b97f321-5278-4fd2-bf62-1687106c1ff8",
   "metadata": {},
   "outputs": [
    {
     "name": "stdout",
     "output_type": "stream",
     "text": [
      "TFile**\t\t/opt/workspace/persistent-storage/work/workshop2025_demo/RDataFrame/VBS/B7B5C9BA-955A-104B-BA9C-D9A48B24AE2F.root\t\n",
      " TFile*\t\t/opt/workspace/persistent-storage/work/workshop2025_demo/RDataFrame/VBS/B7B5C9BA-955A-104B-BA9C-D9A48B24AE2F.root\t\n",
      "  KEY: ROOT::Experimental::RNTuple\tEvents;1\tobject title\n",
      "TFile**\t\t/scratch/cms/store/mcrnt/RunIISummer20UL17NanoAODv9/ZGToLLG_01J_5f_TuneCP5_13TeV-amcatnloFXFX-pythia8/NANOAODSIM/106X_mc2017_realistic_v9-v1/70000/AF4D5462-30E8-EA43-AA8A-A1EADA9796BC.root\t\n",
      " TFile*\t\t/scratch/cms/store/mcrnt/RunIISummer20UL17NanoAODv9/ZGToLLG_01J_5f_TuneCP5_13TeV-amcatnloFXFX-pythia8/NANOAODSIM/106X_mc2017_realistic_v9-v1/70000/AF4D5462-30E8-EA43-AA8A-A1EADA9796BC.root\t\n",
      "  KEY: ROOT::RNTuple\tEvents;1\t\n"
     ]
    }
   ],
   "source": [
    "g.ls()\n",
    "f.ls()"
   ]
  },
  {
   "cell_type": "code",
   "execution_count": null,
   "id": "0d9f2958-345d-44b9-ac68-bd619dcc73f5",
   "metadata": {},
   "outputs": [],
   "source": []
  }
 ],
 "metadata": {
  "kernelspec": {
   "display_name": "Python kernel from image /cvmfs/unpacked.cern.ch/ghcr.io/comp-dev-cms-ita/kernel-root:root-build-infn-4",
   "language": "python",
   "name": "python-kernel-from-image-_cvmfs_unpacked.cern.ch_ghcr.io_comp-dev-cms-ita_kernel-rootroot-build-infn-4"
  },
  "language_info": {
   "codemirror_mode": {
    "name": "ipython",
    "version": 3
   },
   "file_extension": ".py",
   "mimetype": "text/x-python",
   "name": "python",
   "nbconvert_exporter": "python",
   "pygments_lexer": "ipython3",
   "version": "3.11.11"
  }
 },
 "nbformat": 4,
 "nbformat_minor": 5
}
